{
 "cells": [
  {
   "cell_type": "code",
   "execution_count": null,
   "id": "5dfd4b29",
   "metadata": {},
   "outputs": [],
   "source": [
    "a = \"other test\"\n",
    "def local_global():\n",
    "    a = \"test string\"\n",
    "    return a\n",
    "\n",
    "print(a)"
   ]
  },
  {
   "cell_type": "code",
   "execution_count": null,
   "id": "9db1e1ec",
   "metadata": {},
   "outputs": [],
   "source": [
    "from random import randint\n",
    "from math import sqrt"
   ]
  },
  {
   "cell_type": "code",
   "execution_count": null,
   "id": "b50c1019",
   "metadata": {},
   "outputs": [],
   "source": [
    "import numpy as np\n",
    "my_list = [11, 12.3, 77]\n",
    "\n",
    "print(np.array(my_list))\n",
    "\n",
    "np.array(my_list)\n",
    "\n",
    "print(type(my_list))\n",
    "print(type(np.array(my_list)))\n",
    "print(my_list[0]) # list indexing !!"
   ]
  }
 ],
 "metadata": {
  "kernelspec": {
   "display_name": "Python 3",
   "language": "python",
   "name": "python3"
  },
  "language_info": {
   "name": "python",
   "version": "3.12.1"
  }
 },
 "nbformat": 4,
 "nbformat_minor": 5
}
