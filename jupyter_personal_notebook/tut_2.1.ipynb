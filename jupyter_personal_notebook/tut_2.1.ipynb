{
 "cells": [
  {
   "cell_type": "code",
   "execution_count": 4,
   "metadata": {},
   "outputs": [
    {
     "name": "stdout",
     "output_type": "stream",
     "text": [
      "o o o o o\n",
      "o o o o o\n",
      "o o o o o\n",
      "o o o o o\n",
      "o o o o o\n"
     ]
    }
   ],
   "source": [
    "pattern = (\"o o o o o\")\n",
    "\n",
    "count = 1\n",
    "while count <= 5:\n",
    "    print(pattern)\n",
    "    count += 1"
   ]
  },
  {
   "cell_type": "code",
   "execution_count": 21,
   "metadata": {},
   "outputs": [
    {
     "name": "stdout",
     "output_type": "stream",
     "text": [
      "o o o \n"
     ]
    }
   ],
   "source": [
    "def print_pattern(n):\n",
    "    for i in range(n):\n",
    "        for j in range(i + 1):\n",
    "            print(\"o\", end=\" \")\n",
    "    print()\n",
    "\n",
    "n = int(input(\"Enter the number of rows:\"))\n",
    "print_pattern(n)"
   ]
  },
  {
   "cell_type": "code",
   "execution_count": 3,
   "metadata": {},
   "outputs": [
    {
     "name": "stdout",
     "output_type": "stream",
     "text": [
      "It's cold! Wear a sweater.\n"
     ]
    }
   ],
   "source": [
    "temperature = int(input(\"Enter the temperature:\"))\n",
    "if temperature < 0:\n",
    "    print(\"It's freezing! Wear a heavy jacket\")\n",
    "elif 0 <= temperature <= 15:\n",
    "    print(\"It's cold! Wear a sweater.\")\n",
    "elif 16 <= temperature <= 25:\n",
    "    print(\"Nice weather! A t-shirt is fine.\")\n",
    "else:\n",
    "    print(\"It's hot! Stay hydrated.\")\n"
   ]
  },
  {
   "cell_type": "code",
   "execution_count": null,
   "metadata": {},
   "outputs": [],
   "source": [
    "fruits = [\"apple\", \"banana\", \"cherry\"]\n",
    "for fruit in fruits:\n",
    "    print(f\"I like {fruit}\")\n",
    "\n",
    "for number in range (1, 11):\n",
    "    print(f\"{number}\")\n",
    "\n"
   ]
  }
 ],
 "metadata": {
  "kernelspec": {
   "display_name": "Python 3",
   "language": "python",
   "name": "python3"
  },
  "language_info": {
   "codemirror_mode": {
    "name": "ipython",
    "version": 3
   },
   "file_extension": ".py",
   "mimetype": "text/x-python",
   "name": "python",
   "nbconvert_exporter": "python",
   "pygments_lexer": "ipython3",
   "version": "3.10.12"
  }
 },
 "nbformat": 4,
 "nbformat_minor": 2
}
