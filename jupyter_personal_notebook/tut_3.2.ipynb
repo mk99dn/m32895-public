{
 "cells": [
  {
   "cell_type": "code",
   "execution_count": null,
   "id": "6d5e32d1",
   "metadata": {},
   "outputs": [
    {
     "name": "stderr",
     "output_type": "stream",
     "text": [
      "/tmp/ipykernel_8446/309558334.py:5: DeprecationWarning: *scatter_mapbox* is deprecated! Use *scatter_map* instead. Learn more at: https://plotly.com/python/mapbox-to-maplibre/\n",
      "  fig = px.scatter_mapbox(data_frame=df, lat=\"centroid_lat\", lon=\"centroid_lon\", color=\"peak_hour\", size=\"car_hours\",\n"
     ]
    }
   ],
   "source": [
    "import plotly.express as px\n",
    "df = px.data.carshare()\n",
    "df = df.sample(n=50, random_state=1)\n",
    "df.head()\n",
    "fig = px.scatter_mapbox(data_frame=df, lat=\"centroid_lat\", lon=\"centroid_lon\", color=\"peak_hour\", size=\"car_hours\",\n",
    "                        mapbox_style='open-street-map', #### don't foret this argument :)\n",
    "                        color_continuous_scale=\"plasma\",\n",
    "                         size_max=15, zoom=10)\n",
    "fig.show()\n",
    "df = px.data.gapminder().query(\"year == 2007\")\n",
    "print(df.shape)\n",
    "df.head()\n",
    "fig = px.sunburst(data_frame=df, path=['continent', 'country'], values='pop',\n",
    "                  color='gdpPercap', hover_name='iso_alpha', hover_data=['lifeExp'])\n",
    "fig.show()"
   ]
  }
 ],
 "metadata": {
  "kernelspec": {
   "display_name": "Python 3",
   "language": "python",
   "name": "python3"
  },
  "language_info": {
   "codemirror_mode": {
    "name": "ipython",
    "version": 3
   },
   "file_extension": ".py",
   "mimetype": "text/x-python",
   "name": "python",
   "nbconvert_exporter": "python",
   "pygments_lexer": "ipython3",
   "version": "3.12.1"
  }
 },
 "nbformat": 4,
 "nbformat_minor": 5
}
