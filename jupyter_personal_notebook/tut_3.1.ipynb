{
 "cells": [
  {
   "cell_type": "code",
   "execution_count": null,
   "id": "83620ab0",
   "metadata": {},
   "outputs": [],
   "source": [
    "import random\n",
    "my_list = []\n",
    "for i in range(10):\n",
    "    my_list.append(random.randint(1,10))\n",
    "my_list"
   ]
  },
  {
   "cell_type": "code",
   "execution_count": null,
   "id": "574c3536",
   "metadata": {},
   "outputs": [],
   "source": [
    "def input_numbers():\n",
    "    a = input(\"Enter a:\")\n",
    "    b = input(\"Enter b:\")\n",
    "    return a, b\n",
    "type(input_numbers())\n",
    "import numpy as np\n",
    "\n",
    "np.zeros(shape=(4, 5)) # shape parameter is given in the form of **tuple** datatype"
   ]
  },
  {
   "cell_type": "code",
   "execution_count": null,
   "id": "8c7c8ffe",
   "metadata": {},
   "outputs": [],
   "source": [
    "# Define url of an image we want to load\n",
    "# This can also be a path to a local file\n",
    "image_url = \"https://upload.wikimedia.org/wikipedia/commons/4/47/PNG_transparency_demonstration_1.png\"\n",
    "image_data = urllib.request.urlopen(image_url)\n",
    "image = PIL.Image.open(image_data)\n",
    "np_image = np.array(image)\n",
    "type(np_image)\n",
    "plt.imshow(np_image)\n",
    "np_image.shape  # N.b. We have 4 channels instead of 3!\n",
    "plt.imshow(np_image[200:500,100:500:,3:4])\n",
    "image_red_only = np_image.copy()\n",
    "image_red_only[:,:,1] = 0  # This is the Green channel, we \"shut down\" it here\n",
    "image_red_only[:, :,2] = 0  # This is the Blue channel, we \"shut down\" it here\n",
    "plt.imshow(image_red_only)"
   ]
  }
 ],
 "metadata": {
  "language_info": {
   "name": "python"
  }
 },
 "nbformat": 4,
 "nbformat_minor": 5
}
