{
 "cells": [
  {
   "cell_type": "markdown",
   "metadata": {},
   "source": [
    "# notMNIST dataset-based CW"
   ]
  },
  {
   "cell_type": "markdown",
   "metadata": {},
   "source": [
    "## Data collection"
   ]
  },
  {
   "cell_type": "markdown",
   "metadata": {},
   "source": [
    "### Objectives of the notebook:\n",
    "* Collect data\n",
    "* Clean data (remove files which are not images)\n",
    "* Check for grayscale images\n",
    "* Split dataset into 'train', 'validation' and 'test' subsets\n",
    "### Input:\n",
    "* Kaggle autentication token (kaggle.json)\n",
    "### Output:\n",
    "Generate dataset\n"
   ]
  },
  {
   "cell_type": "code",
   "execution_count": 37,
   "metadata": {},
   "outputs": [
    {
     "name": "stderr",
     "output_type": "stream",
     "text": [
      "2025-03-28 14:26:11.347776: I tensorflow/core/util/port.cc:153] oneDNN custom operations are on. You may see slightly different numerical results due to floating-point round-off errors from different computation orders. To turn them off, set the environment variable `TF_ENABLE_ONEDNN_OPTS=0`.\n",
      "2025-03-28 14:26:11.364723: I external/local_xla/xla/tsl/cuda/cudart_stub.cc:32] Could not find cuda drivers on your machine, GPU will not be used.\n",
      "2025-03-28 14:26:11.568481: I external/local_xla/xla/tsl/cuda/cudart_stub.cc:32] Could not find cuda drivers on your machine, GPU will not be used.\n",
      "2025-03-28 14:26:11.694408: E external/local_xla/xla/stream_executor/cuda/cuda_fft.cc:477] Unable to register cuFFT factory: Attempting to register factory for plugin cuFFT when one has already been registered\n",
      "WARNING: All log messages before absl::InitializeLog() is called are written to STDERR\n",
      "E0000 00:00:1743171971.908360    2239 cuda_dnn.cc:8310] Unable to register cuDNN factory: Attempting to register factory for plugin cuDNN when one has already been registered\n",
      "E0000 00:00:1743171971.944376    2239 cuda_blas.cc:1418] Unable to register cuBLAS factory: Attempting to register factory for plugin cuBLAS when one has already been registered\n",
      "2025-03-28 14:26:12.254476: I tensorflow/core/platform/cpu_feature_guard.cc:210] This TensorFlow binary is optimized to use available CPU instructions in performance-critical operations.\n",
      "To enable the following instructions: AVX2 AVX512F AVX512_VNNI FMA, in other operations, rebuild TensorFlow with the appropriate compiler flags.\n"
     ]
    }
   ],
   "source": [
    "import numpy as np\n",
    "import os\n",
    "from matplotlib.image import imread\n",
    "import matplotlib.pyplot as plt\n",
    "import zipfile\n",
    "from PIL import Image\n",
    "from tqdm import tqdm\n",
    "import tarfile\n",
    "from sklearn.model_selection import train_test_split\n",
    "import tensorflow as tf\n",
    "from tensorflow import keras\n"
   ]
  },
  {
   "cell_type": "code",
   "execution_count": 36,
   "metadata": {},
   "outputs": [
    {
     "name": "stdout",
     "output_type": "stream",
     "text": [
      "\n",
      "Usage:   \n",
      "  /home/codespace/.python/current/bin/python -m pip install [options] <requirement specifier> [package-index-options] ...\n",
      "  /home/codespace/.python/current/bin/python -m pip install [options] -r <requirements file> [package-index-options] ...\n",
      "  /home/codespace/.python/current/bin/python -m pip install [options] [-e] <vcs project url> ...\n",
      "  /home/codespace/.python/current/bin/python -m pip install [options] [-e] <local project path> ...\n",
      "  /home/codespace/.python/current/bin/python -m pip install [options] <archive url/path> ...\n",
      "\n",
      "no such option: --silent\n",
      "Note: you may need to restart the kernel to use updated packages.\n"
     ]
    }
   ],
   "source": [
    "%pip install kaggle --silent  # install kaggle"
   ]
  },
  {
   "cell_type": "code",
   "execution_count": 22,
   "metadata": {},
   "outputs": [
    {
     "name": "stdout",
     "output_type": "stream",
     "text": [
      "Your current working directory is:\n",
      " /workspaces/m32895-coursework-2025\n"
     ]
    }
   ],
   "source": [
    "os.chdir('/workspaces/m32895-coursework-2025')\n",
    "print(f\"Your current working directory is:\\n {os.getcwd()}\")"
   ]
  },
  {
   "cell_type": "code",
   "execution_count": 23,
   "metadata": {},
   "outputs": [],
   "source": [
    "# change the Kaggle configuration directory to the current working directory and set permissions for the Kaggle authentication JSON\n",
    "os.environ['KAGGLE_CONFIG_DIR'] = os.getcwd()\n",
    "! chmod 600 kaggle.json"
   ]
  },
  {
   "cell_type": "markdown",
   "metadata": {},
   "source": [
    "#### Download dataset"
   ]
  },
  {
   "cell_type": "code",
   "execution_count": 24,
   "metadata": {},
   "outputs": [
    {
     "name": "stdout",
     "output_type": "stream",
     "text": [
      "Dataset URL: https://www.kaggle.com/datasets/lubaroli/notmnist\n",
      "License(s): unknown\n"
     ]
    }
   ],
   "source": [
    "KaggleDatasetPath = \"lubaroli/notmnist\"\n",
    "DestinationFolder = \"/workspaces/m32895-coursework-2025/data_input\"   \n",
    "! kaggle datasets download -d {KaggleDatasetPath} -p {DestinationFolder}"
   ]
  },
  {
   "cell_type": "markdown",
   "metadata": {},
   "source": [
    "#### Unpack zip"
   ]
  },
  {
   "cell_type": "code",
   "execution_count": 25,
   "metadata": {},
   "outputs": [],
   "source": [
    "with zipfile.ZipFile(os.path.join(DestinationFolder, 'notmnist.zip'), 'r') as notmnist_zip:\n",
    "    notmnist_zip.extractall(DestinationFolder)\n"
   ]
  },
  {
   "cell_type": "code",
   "execution_count": 26,
   "metadata": {},
   "outputs": [],
   "source": [
    "os.remove(os.path.join(DestinationFolder, 'notmnist.zip'))  # remove zip"
   ]
  },
  {
   "cell_type": "markdown",
   "metadata": {},
   "source": [
    "#### Extract tar"
   ]
  },
  {
   "cell_type": "code",
   "execution_count": 27,
   "metadata": {},
   "outputs": [
    {
     "name": "stdout",
     "output_type": "stream",
     "text": [
      "Extraction completed.\n"
     ]
    }
   ],
   "source": [
    "file_path = \"/workspaces/m32895-coursework-2025/data_input/notMNIST_small.tar.gz\"\n",
    "extract_path = \"/workspaces/m32895-coursework-2025/data_input/notMNIST_small\"\n",
    "\n",
    "# Extract the tar.gz archive\n",
    "with tarfile.open(file_path, \"r:gz\") as tar:\n",
    "    tar.extractall(path=extract_path)\n",
    "\n",
    "print(\"Extraction completed.\")\n"
   ]
  },
  {
   "cell_type": "markdown",
   "metadata": {},
   "source": [
    "### Check if images are valid"
   ]
  },
  {
   "cell_type": "code",
   "execution_count": 28,
   "metadata": {},
   "outputs": [],
   "source": [
    "data_dir = \"/workspaces/m32895-coursework-2025/data_input/notMNIST_small/notMNIST_small\""
   ]
  },
  {
   "cell_type": "code",
   "execution_count": 29,
   "metadata": {},
   "outputs": [],
   "source": [
    "def check_valid_notmnist_images(data_dir, max_images_per_class=None):\n",
    "    \"\"\"\n",
    "    Check if all images in the notMNIST dataset are valid.\n",
    "\n",
    "    Args:\n",
    "        data_dir (str): Path to the main dataset directory.\n",
    "        max_images_per_class (int or None): Optional limit of images per class to check.\n",
    "\n",
    "    Returns:\n",
    "        invalid_images (list): List of invalid image file paths.\n",
    "    \"\"\"\n",
    "    invalid_images = []\n",
    "    total_valid = 0\n",
    "    total_checked = 0\n",
    "\n",
    "    classes = sorted([d for d in os.listdir(data_dir) if os.path.isdir(os.path.join(data_dir, d))])\n",
    "\n",
    "    for class_name in classes:\n",
    "        class_dir = os.path.join(data_dir, class_name)\n",
    "        files = os.listdir(class_dir)\n",
    "        if max_images_per_class:\n",
    "            files = files[:max_images_per_class]\n",
    "\n",
    "        valid_count = 0\n",
    "        for image_name in files:\n",
    "            image_path = os.path.join(class_dir, image_name)\n",
    "            try:\n",
    "                with Image.open(image_path) as img:\n",
    "                    img.convert(\"L\").resize((28, 28))  # Simulate what loading does\n",
    "                valid_count += 1\n",
    "            except:\n",
    "                invalid_images.append(image_path)\n",
    "\n",
    "        total_checked += len(files)\n",
    "        total_valid += valid_count\n",
    "        print(f\"Class '{class_name}': {valid_count}/{len(files)} images are valid.\")\n",
    "\n",
    "    print(f\"\\nTotal valid: {total_valid} / {total_checked}\")\n",
    "    print(f\"Total invalid: {len(invalid_images)}\")\n",
    "\n",
    "    return invalid_images\n"
   ]
  },
  {
   "cell_type": "code",
   "execution_count": 30,
   "metadata": {},
   "outputs": [
    {
     "name": "stdout",
     "output_type": "stream",
     "text": [
      "Class 'A': 1872/1873 images are valid.\n",
      "Class 'B': 1873/1873 images are valid.\n",
      "Class 'C': 1873/1873 images are valid.\n",
      "Class 'D': 1873/1873 images are valid.\n",
      "Class 'E': 1873/1873 images are valid.\n",
      "Class 'F': 1872/1873 images are valid.\n",
      "Class 'G': 1872/1872 images are valid.\n",
      "Class 'H': 1872/1872 images are valid.\n",
      "Class 'I': 1872/1872 images are valid.\n",
      "Class 'J': 1872/1872 images are valid.\n",
      "\n",
      "Total valid: 18724 / 18726\n",
      "Total invalid: 2\n"
     ]
    }
   ],
   "source": [
    "bad_files = check_valid_notmnist_images(data_dir)\n",
    "\n",
    "# Optional: delete broken files if needed\n",
    "for bad in bad_files:\n",
    "    os.remove(bad)"
   ]
  },
  {
   "cell_type": "markdown",
   "metadata": {},
   "source": [
    "### Load the dataset into Numpy"
   ]
  },
  {
   "cell_type": "code",
   "execution_count": 31,
   "metadata": {},
   "outputs": [],
   "source": [
    "def load_notmnist_images(data_dir, max_images_per_class=1000):\n",
    "    \"\"\"\n",
    "    Load notMNIST images into NumPy arrays.\n",
    "\n",
    "    Args:\n",
    "        data_dir (str): Path to the folder with subfolders A-J.\n",
    "        max_images_per_class (int): Limit the number of images per class.\n",
    "\n",
    "    Returns:\n",
    "        X (np.ndarray): Image data of shape (num_samples, 28, 28).\n",
    "        y (np.ndarray): Labels (0-9) corresponding to A-J.\n",
    "    \"\"\"\n",
    "    X, y = [], []\n",
    "    classes = sorted([d for d in os.listdir(data_dir) if os.path.isdir(os.path.join(data_dir, d))])\n",
    "\n",
    "    for label, class_name in enumerate(classes):\n",
    "        class_dir = os.path.join(data_dir, class_name)\n",
    "        image_files = os.listdir(class_dir)[:max_images_per_class]\n",
    "\n",
    "        for image_name in tqdm(image_files, desc=f\"Loading class '{class_name}'\"):\n",
    "            image_path = os.path.join(class_dir, image_name)\n",
    "            try:\n",
    "                img = Image.open(image_path).convert(\"L\").resize((28, 28))\n",
    "                X.append(np.array(img))\n",
    "                y.append(label)\n",
    "            except:\n",
    "                continue  # Skip unreadable or broken images\n",
    "\n",
    "    X = np.array(X)\n",
    "    y = np.array(y)\n",
    "    return X, y\n"
   ]
  },
  {
   "cell_type": "code",
   "execution_count": 32,
   "metadata": {},
   "outputs": [
    {
     "name": "stderr",
     "output_type": "stream",
     "text": [
      "Loading class 'A': 100%|██████████| 1000/1000 [00:00<00:00, 7143.31it/s]\n",
      "Loading class 'B': 100%|██████████| 1000/1000 [00:00<00:00, 7856.56it/s]\n",
      "Loading class 'C': 100%|██████████| 1000/1000 [00:00<00:00, 8484.41it/s]\n",
      "Loading class 'D': 100%|██████████| 1000/1000 [00:00<00:00, 5975.56it/s]\n",
      "Loading class 'E': 100%|██████████| 1000/1000 [00:00<00:00, 3580.37it/s]\n",
      "Loading class 'F': 100%|██████████| 1000/1000 [00:00<00:00, 8887.37it/s]\n",
      "Loading class 'G': 100%|██████████| 1000/1000 [00:00<00:00, 8472.43it/s]\n",
      "Loading class 'H': 100%|██████████| 1000/1000 [00:00<00:00, 8683.14it/s]\n",
      "Loading class 'I': 100%|██████████| 1000/1000 [00:00<00:00, 7843.78it/s]\n",
      "Loading class 'J': 100%|██████████| 1000/1000 [00:00<00:00, 8878.69it/s]"
     ]
    },
    {
     "name": "stdout",
     "output_type": "stream",
     "text": [
      "Data shape: (10000, 28, 28), Labels shape: (10000,)\n"
     ]
    },
    {
     "name": "stderr",
     "output_type": "stream",
     "text": [
      "\n"
     ]
    }
   ],
   "source": [
    "data_dir = \"/workspaces/m32895-coursework-2025/data_input/notMNIST_small/notMNIST_small\"\n",
    "X, y = load_notmnist_images(data_dir)\n",
    "\n",
    "print(f\"Data shape: {X.shape}, Labels shape: {y.shape}\")"
   ]
  },
  {
   "cell_type": "code",
   "execution_count": 33,
   "metadata": {},
   "outputs": [
    {
     "data": {
      "text/plain": [
       "numpy.ndarray"
      ]
     },
     "execution_count": 33,
     "metadata": {},
     "output_type": "execute_result"
    }
   ],
   "source": [
    "type(X)"
   ]
  },
  {
   "cell_type": "markdown",
   "metadata": {},
   "source": [
    "#### Get categories"
   ]
  },
  {
   "cell_type": "code",
   "execution_count": 34,
   "metadata": {},
   "outputs": [
    {
     "name": "stdout",
     "output_type": "stream",
     "text": [
      "['A', 'B', 'C', 'D', 'E', 'F', 'G', 'H', 'I', 'J']\n"
     ]
    }
   ],
   "source": [
    "import os\n",
    "\n",
    "data_dir = \"/workspaces/m32895-coursework-2025/data_input/notMNIST_small/notMNIST_small\"\n",
    "categories = sorted([d for d in os.listdir(data_dir) if os.path.isdir(os.path.join(data_dir, d))])\n",
    "print(categories)\n"
   ]
  },
  {
   "cell_type": "code",
   "execution_count": 35,
   "metadata": {},
   "outputs": [
    {
     "data": {
      "image/png": "[encoded data removed]",
      "text/plain": [
       "<Figure size 1000x500 with 10 Axes>"
      ]
     },
     "metadata": {},
     "output_type": "display_data"
    }
   ],
   "source": [
    "plt.figure(figsize=(10, 5))\n",
    "for class_index in range(10):\n",
    "    # Find indices where y == class_index\n",
    "    class_indices = np.where(y == class_index)[0]\n",
    "    \n",
    "    # Pick one random index for that class\n",
    "    i = np.random.choice(class_indices)\n",
    "    \n",
    "    plt.subplot(2, 5, class_index + 1)\n",
    "    plt.imshow(X[i].squeeze(), cmap=\"gray\")\n",
    "    plt.title(f\"Label: {categories[y[i]]}\")\n",
    "    plt.axis(\"off\")\n",
    "\n",
    "plt.tight_layout()\n",
    "plt.show()\n"
   ]
  },
  {
   "cell_type": "markdown",
   "metadata": {},
   "source": [
    "---"
   ]
  },
  {
   "cell_type": "markdown",
   "metadata": {},
   "source": [
    "### Prepare dataset for Keras"
   ]
  },
  {
   "cell_type": "code",
   "execution_count": 41,
   "metadata": {},
   "outputs": [
    {
     "name": "stdout",
     "output_type": "stream",
     "text": [
      "Dataset shape: (10000, 28, 28, 1)\n"
     ]
    }
   ],
   "source": [
    "# Normalize pixel values (optional)\n",
    "X = X / 255.0\n",
    "# Reshape images to fit CNN input (28x28x1)\n",
    "X = X.reshape(-1, 28, 28, 1)\n",
    "\n",
    "# Split into train and test sets\n",
    "# X_train, X_test, y_train, y_test = train_test_split(X, y, test_size=0.2, random_state=42)\n",
    "\n",
    "# Convert labels to categorical (one-hot encoding)\n",
    "# y_train = keras.utils.to_categorical(y_train, num_classes=10)\n",
    "# y_test = keras.utils.to_categorical(y_test, num_classes=10)\n",
    "\n",
    "# Verify data shape\n",
    "print(f\"Dataset shape: {X.shape}\")\n",
    "\n"
   ]
  },
  {
   "cell_type": "code",
   "execution_count": null,
   "metadata": {},
   "outputs": [
    {
     "name": "stdout",
     "output_type": "stream",
     "text": [
      "Train: (7000, 28, 28, 1), Validation: (1500, 28, 28, 1), Test: (1500, 28, 28, 1)\n"
     ]
    }
   ],
   "source": [
    "from sklearn.model_selection import train_test_split\n",
    "\n",
    "# Assume X is (10000, 28, 28, 1) and y is (10000,)\n",
    "# First split: Train (70%), Temp (30%)\n",
    "X_train, X_temp, y_train, y_temp = train_test_split(X, y, test_size=0.3, random_state=42, stratify=y)  # We use stratify=y to preserve class distribution in each split.\n",
    "\n",
    "# Second split: Validation (15%), Test (15%) from Temp\n",
    "X_val, X_test, y_val, y_test = train_test_split(X_temp, y_temp, test_size=0.5, random_state=42, stratify=y_temp)\n",
    "\n",
    "# Check sizes\n",
    "print(f\"Train: {X_train.shape}, Validation: {X_val.shape}, Test: {X_test.shape}\")\n"
   ]
  },
  {
   "cell_type": "markdown",
   "metadata": {},
   "source": [
    "### Plot label distribution in train, validation and test subsets"
   ]
  },
  {
   "cell_type": "code",
   "execution_count": 43,
   "metadata": {},
   "outputs": [
    {
     "data": {
      "image/png": "[encoded data removed]",
      "text/plain": [
       "<Figure size 1000x500 with 1 Axes>"
      ]
     },
     "metadata": {},
     "output_type": "display_data"
    }
   ],
   "source": [
    "import matplotlib.pyplot as plt\n",
    "import numpy as np\n",
    "\n",
    "def plot_label_distribution(y_sets, labels, set_names):\n",
    "    num_sets = len(y_sets)\n",
    "    num_classes = len(labels)\n",
    "\n",
    "    # Create a bar chart for each dataset\n",
    "    x = np.arange(num_classes)\n",
    "    bar_width = 0.25\n",
    "\n",
    "    plt.figure(figsize=(10, 5))\n",
    "\n",
    "    for i, y_split in enumerate(y_sets):\n",
    "        counts = np.bincount(y_split, minlength=num_classes)\n",
    "        plt.bar(x + i * bar_width, counts, width=bar_width, label=set_names[i])\n",
    "\n",
    "    plt.xticks(x + bar_width, labels)\n",
    "    plt.xlabel(\"Class Label\")\n",
    "    plt.ylabel(\"Count\")\n",
    "    plt.title(\"Label Distribution Across Train / Validation / Test Sets\")\n",
    "    plt.legend()\n",
    "    plt.tight_layout()\n",
    "    plt.show()\n",
    "\n",
    "# Define inputs\n",
    "y_sets = [y_train, y_val, y_test]\n",
    "set_names = [\"Train\", \"Validation\", \"Test\"]\n",
    "plot_label_distribution(y_sets, labels=categories, set_names=set_names)\n"
   ]
  },
  {
   "cell_type": "code",
   "execution_count": 44,
   "metadata": {},
   "outputs": [
    {
     "data": {
      "image/png": "[encoded data removed]",
      "text/plain": [
       "<Figure size 1000x600 with 1 Axes>"
      ]
     },
     "metadata": {},
     "output_type": "display_data"
    }
   ],
   "source": [
    "import matplotlib.pyplot as plt\n",
    "import numpy as np\n",
    "\n",
    "def plot_label_distribution_grouped_by_dataset(y_sets, class_labels, set_names):\n",
    "    num_classes = len(class_labels)\n",
    "    num_sets = len(y_sets)\n",
    "\n",
    "    # Count labels for each dataset\n",
    "    counts_per_set = [np.bincount(y, minlength=num_classes) for y in y_sets]\n",
    "\n",
    "    # Create bar positions\n",
    "    x = np.arange(len(set_names))  # one group per dataset (Train/Val/Test)\n",
    "    bar_width = 0.08\n",
    "\n",
    "    plt.figure(figsize=(10, 6))\n",
    "\n",
    "    for class_idx in range(num_classes):\n",
    "        class_counts = [counts[class_idx] for counts in counts_per_set]\n",
    "        plt.bar(x + class_idx * bar_width, class_counts, width=bar_width, label=class_labels[class_idx])\n",
    "\n",
    "    plt.xticks(x + (num_classes / 2 - 0.5) * bar_width, set_names)\n",
    "    plt.xlabel(\"Dataset\")\n",
    "    plt.ylabel(\"Number of Samples\")\n",
    "    plt.title(\"Label Distribution in Train / Validation / Test Sets\")\n",
    "    plt.legend(title=\"Class\", bbox_to_anchor=(1.05, 1), loc=\"upper left\")\n",
    "    plt.tight_layout()\n",
    "    plt.show()\n",
    "\n",
    "# Call the function\n",
    "plot_label_distribution_grouped_by_dataset(\n",
    "    y_sets=[y_train, y_val, y_test],\n",
    "    class_labels=categories,\n",
    "    set_names=[\"Train\", \"Validation\", \"Test\"]\n",
    ")\n"
   ]
  },
  {
   "cell_type": "code",
   "execution_count": null,
   "metadata": {},
   "outputs": [],
   "source": []
  }
 ],
 "metadata": {
  "kernelspec": {
   "display_name": "Python 3",
   "language": "python",
   "name": "python3"
  },
  "language_info": {
   "codemirror_mode": {
    "name": "ipython",
    "version": 3
   },
   "file_extension": ".py",
   "mimetype": "text/x-python",
   "name": "python",
   "nbconvert_exporter": "python",
   "pygments_lexer": "ipython3",
   "version": "3.12.1"
  }
 },
 "nbformat": 4,
 "nbformat_minor": 2
}
