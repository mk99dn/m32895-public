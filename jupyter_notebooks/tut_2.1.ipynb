{
 "cells": [
  {
   "cell_type": "markdown",
   "metadata": {},
   "source": [
    "# <u>Tut_2.1</u>"
   ]
  },
  {
   "cell_type": "markdown",
   "metadata": {},
   "source": [
    "# Control Flow – `while` and `for` Loops. Models in ML"
   ]
  },
  {
   "cell_type": "markdown",
   "metadata": {},
   "source": [
    "## Learning outcomes\n",
    "* Structure and implementation of `for` loop (iterate over `list`, `range`, `string`)\n",
    "* Loop control with `break`, `pass` and `continue`\n",
    "* Defining and calling functions (1<sup>st</sup> visualisation example)\n",
    "* **Big Data** and where it stands?\n",
    "* Models and algorithms in ML"
   ]
  },
  {
   "cell_type": "markdown",
   "metadata": {},
   "source": [
    "---"
   ]
  },
  {
   "cell_type": "markdown",
   "metadata": {},
   "source": [
    "### Update your **m32895-public** fork on GitHub"
   ]
  },
  {
   "cell_type": "markdown",
   "metadata": {},
   "source": [
    "---"
   ]
  },
  {
   "cell_type": "markdown",
   "metadata": {},
   "source": [
    "## Setting up your coding environment\n",
    "* Open [codeanywhere.com](https://codeanywhere.com/) and login using your github credentials\n",
    "<br>\n",
    "#### **Very useful resource**<br>\n",
    "* [w3cschools.com](https://www.w3schools.com/python/default.asp)"
   ]
  },
  {
   "cell_type": "markdown",
   "metadata": {},
   "source": [
    "---"
   ]
  },
  {
   "cell_type": "markdown",
   "metadata": {},
   "source": [
    "## Warming up exercise\n",
    "### Temperature advisor\n",
    "**Objective**: Practice using `if-elif-else` statements to make decisions based on temperature.<br>\n",
    "**Scenario**: The user enters the current temperature in Celsius, and the program gives advice based on the temperature range.<br>\n",
    "**Instructions**:\n",
    "* Ask the user for the current temperature (input as a number).\n",
    "* Convert the input to an integer.\n",
    "* Use if-elif-else to provide advice:\n",
    "\t* Below 0°C → \"It's freezing! Wear a heavy jacket.\"\n",
    "\t* 0°C to 15°C → \"It's cold! Wear a sweater.\"\n",
    "\t* 16°C to 25°C → \"Nice weather! A t-shirt is fine.\"\n",
    "\t* Above 25°C → \"It's hot! Stay hydrated.\""
   ]
  },
  {
   "cell_type": "markdown",
   "metadata": {},
   "source": [
    "### Solution"
   ]
  },
  {
   "cell_type": "code",
   "execution_count": 9,
   "metadata": {},
   "outputs": [
    {
     "name": "stdout",
     "output_type": "stream",
     "text": [
      "Nice weather! A t-shirt is fine.\n"
     ]
    }
   ],
   "source": [
    "# Step 1: Ask the user for temperature\n",
    "temperature = int(input(\"Enter the current temperature in Celsius: \"))\n",
    "\n",
    "# Step 2: Use if-elif-else for decision-making\n",
    "if temperature < 0:\n",
    "    print(\"It's freezing! Wear a heavy jacket.\")\n",
    "elif temperature <= 15:\n",
    "    print(\"It's cold! Wear a sweater.\")\n",
    "elif temperature <= 25:\n",
    "    print(\"Nice weather! A t-shirt is fine.\")\n",
    "else:\n",
    "    print(\"It's hot! Stay hydrated.\")\n",
    "\n",
    "# Program gives advice based on temperature\n"
   ]
  },
  {
   "cell_type": "markdown",
   "metadata": {},
   "source": [
    "---"
   ]
  },
  {
   "cell_type": "markdown",
   "metadata": {},
   "source": [
    "## `for` loop\n",
    "#### Performs operation on each part/member/entry/element of an iterable structure."
   ]
  },
  {
   "cell_type": "markdown",
   "metadata": {},
   "source": [
    "* ### Iterates over `list`"
   ]
  },
  {
   "cell_type": "code",
   "execution_count": 10,
   "metadata": {},
   "outputs": [
    {
     "name": "stdout",
     "output_type": "stream",
     "text": [
      "I like apple!\n",
      "I like banana!\n",
      "I like cherry!\n"
     ]
    }
   ],
   "source": [
    "fruits = [\"apple\", \"banana\", \"cherry\"]\n",
    "\n",
    "for fruit in fruits:\n",
    "    print(f\"I like {fruit}!\")\n"
   ]
  },
  {
   "cell_type": "markdown",
   "metadata": {},
   "source": [
    "* ### Iterates over `range`"
   ]
  },
  {
   "cell_type": "code",
   "execution_count": 11,
   "metadata": {},
   "outputs": [
    {
     "name": "stdout",
     "output_type": "stream",
     "text": [
      "Number: 1\n",
      "Number: 2\n",
      "Number: 3\n",
      "Number: 4\n",
      "Number: 5\n"
     ]
    }
   ],
   "source": [
    "for number in range(1, 6):  # Loops from 1 to 5\n",
    "    print(f\"Number: {number}\")\n"
   ]
  },
  {
   "cell_type": "markdown",
   "metadata": {},
   "source": [
    "* ### Iterates over `string`"
   ]
  },
  {
   "cell_type": "code",
   "execution_count": 12,
   "metadata": {},
   "outputs": [
    {
     "name": "stdout",
     "output_type": "stream",
     "text": [
      "Letter: P\n",
      "Letter: y\n",
      "Letter: t\n",
      "Letter: h\n",
      "Letter: o\n",
      "Letter: n\n"
     ]
    }
   ],
   "source": [
    "word = \"Python\"\n",
    "\n",
    "for letter in word:  # Loop through each character in the string\n",
    "    print(f\"Letter: {letter}\")\n"
   ]
  },
  {
   "cell_type": "code",
   "execution_count": 13,
   "metadata": {},
   "outputs": [
    {
     "name": "stdout",
     "output_type": "stream",
     "text": [
      "t\n",
      "e\n",
      "l\n",
      "l\n",
      "l\n"
     ]
    }
   ],
   "source": [
    "# Step 1: Ask the user for a word\n",
    "word = input(\"Enter a word: \")\n",
    "\n",
    "# Step 2: Use a for loop to go through each letter\n",
    "for letter in word:\n",
    "    print(letter)  # Step 3: Print each letter\n"
   ]
  },
  {
   "cell_type": "markdown",
   "metadata": {},
   "source": [
    "### Exercise 1 - Print pattern\n",
    "\n",
    "o  o  o  o  o  \n",
    "o  o  o  o  o  \n",
    "o  o  o  o  o  \n",
    "o  o  o  o  o  \n",
    "o  o  o  o  o  "
   ]
  },
  {
   "cell_type": "markdown",
   "metadata": {},
   "source": [
    "### Solution"
   ]
  },
  {
   "cell_type": "code",
   "execution_count": 14,
   "metadata": {},
   "outputs": [
    {
     "name": "stdout",
     "output_type": "stream",
     "text": [
      "o  o  o  o  o  \n",
      "o  o  o  o  o  \n",
      "o  o  o  o  o  \n",
      "o  o  o  o  o  \n",
      "o  o  o  o  o  \n"
     ]
    }
   ],
   "source": [
    "# Loop for 'o' patterns: square\n",
    "n = 5\n",
    "for i in range(n):\n",
    "    for j in range(n):\n",
    "        print('o', end='  ')\n",
    "    print()"
   ]
  },
  {
   "cell_type": "markdown",
   "metadata": {},
   "source": [
    "### Exercise 2 - Print pattern\n",
    "\n",
    "o  \n",
    "o o  \n",
    "o o o  \n",
    "o o o o  \n",
    "o o o o o  \n"
   ]
  },
  {
   "cell_type": "markdown",
   "metadata": {},
   "source": [
    "### Solution"
   ]
  },
  {
   "cell_type": "code",
   "execution_count": 15,
   "metadata": {},
   "outputs": [
    {
     "name": "stdout",
     "output_type": "stream",
     "text": [
      "o  \n",
      "o  o  \n",
      "o  o  o  \n",
      "o  o  o  o  \n",
      "o  o  o  o  o  \n"
     ]
    }
   ],
   "source": [
    "# Loop for 'o' pattern: increasing triangle\n",
    "n = 5\n",
    "for i in range(n):\n",
    "    for j in range(i+1): # we change n to i+1 for increasing triangle\n",
    "        print('o', end='  ')\n",
    "    print()"
   ]
  },
  {
   "cell_type": "markdown",
   "metadata": {},
   "source": [
    "---"
   ]
  },
  {
   "cell_type": "markdown",
   "metadata": {},
   "source": [
    "## Loop control"
   ]
  },
  {
   "cell_type": "markdown",
   "metadata": {},
   "source": [
    "### `break`\n",
    "* What Does the `break` Keyword Do in a Loop?\n",
    "\t* The `break` keyword in Python stops a loop immediately when it is executed.\n",
    "\n",
    "* It is used in both `while` and `for` loops.\n",
    "* It exits the loop completely, even if the loop condition is still true.\n",
    "* The code after the loop continues to run."
   ]
  },
  {
   "cell_type": "code",
   "execution_count": 16,
   "metadata": {},
   "outputs": [
    {
     "name": "stdout",
     "output_type": "stream",
     "text": [
      "1\n",
      "2\n",
      "Stopping the loop!\n"
     ]
    }
   ],
   "source": [
    "for number in range(1, 6):  \n",
    "    if number == 3:\n",
    "        print(\"Stopping the loop!\")\n",
    "        break  # Exits the loop when number is 3\n",
    "    print(number)\n"
   ]
  },
  {
   "cell_type": "markdown",
   "metadata": {},
   "source": [
    "### `pass`\n",
    "* What Does the `pass` Keyword Do in a Loop?\n",
    "\t* The pass keyword in Python is a placeholder. It does nothing but allows the program to continue without errors.\n",
    "\n",
    "* It is used when a statement is required syntactically, but you don’t want to execute anything yet.\n",
    "* Unlike `break`, it does not exit the loop. The loop continues as if nothing happened.\n",
    "* It is often used in loops, conditionals, or function definitions when you plan to add code later.\n"
   ]
  },
  {
   "cell_type": "code",
   "execution_count": 17,
   "metadata": {},
   "outputs": [
    {
     "name": "stdout",
     "output_type": "stream",
     "text": [
      "1\n",
      "2\n",
      "4\n",
      "5\n"
     ]
    }
   ],
   "source": [
    "for number in range(1, 6):\n",
    "    if number == 3:\n",
    "        pass  # Placeholder; does nothing when number == 3\n",
    "    else:\n",
    "        print(number)\n"
   ]
  },
  {
   "cell_type": "markdown",
   "metadata": {},
   "source": [
    "### `continue`\n",
    "* What Does the `continue` Keyword Do in a Loop?\n",
    "\t* The `continue` keyword skips the current iteration of the loop and moves to the next iteration immediately.\n",
    "* Unlike `break`, it does not exit the loop.\n",
    "* Unlike `pass`, it actually affects the loop's execution by skipping code."
   ]
  },
  {
   "cell_type": "code",
   "execution_count": 18,
   "metadata": {},
   "outputs": [
    {
     "name": "stdout",
     "output_type": "stream",
     "text": [
      "1\n",
      "2\n",
      "4\n",
      "5\n"
     ]
    }
   ],
   "source": [
    "for number in range(1, 6):\n",
    "    if number == 3:\n",
    "        continue  # Skip this iteration when number == 3\n",
    "    print(number)\n"
   ]
  },
  {
   "cell_type": "markdown",
   "metadata": {},
   "source": [
    "#### Summary\n",
    "| Keyword | Effect |\n",
    "|---------|--------|\n",
    "| `break `| Exits the loop completely|\n",
    "| `continue` | Skips the current iteration and moves to the next |\n",
    "| `pass` | Does nothing; acts as a placeholder |"
   ]
  },
  {
   "cell_type": "markdown",
   "metadata": {},
   "source": [
    "---"
   ]
  },
  {
   "cell_type": "markdown",
   "metadata": {},
   "source": [
    "## Defining and calling a **function**\n",
    "* A function is a reusable block of code that performs a specific task\n",
    "* It takes input (optional), processes it, and returns an output (optional)\n",
    "* Functions help organize code, avoid repetition, and make programs easier to understand"
   ]
  },
  {
   "cell_type": "code",
   "execution_count": 19,
   "metadata": {},
   "outputs": [
    {
     "name": "stdout",
     "output_type": "stream",
     "text": [
      "8\n"
     ]
    }
   ],
   "source": [
    "def add_numbers(a, b):  # Function definition with two inputs (a.k.a. arguments)\n",
    "    \"\"\"\n",
    "    Add two numbers and returns the sum.\n",
    "    \"\"\"\n",
    "    return a + b        # Returns the sum of the inputs\n",
    "\n",
    "# Using the function\n",
    "result = add_numbers(3, 5)  \n",
    "print(result)  # Output: 8\n"
   ]
  },
  {
   "cell_type": "code",
   "execution_count": 20,
   "metadata": {},
   "outputs": [],
   "source": [
    "def circle_area(r):\n",
    "    \"\"\"\n",
    "    Returns area of circle.\n",
    "    \"\"\"\n",
    "    s = 3.1415 * r ** 2\n",
    "    return s"
   ]
  },
  {
   "cell_type": "code",
   "execution_count": 21,
   "metadata": {},
   "outputs": [
    {
     "name": "stdout",
     "output_type": "stream",
     "text": [
      "3.1415\n"
     ]
    }
   ],
   "source": [
    "print(circle_area(1))"
   ]
  },
  {
   "cell_type": "markdown",
   "metadata": {},
   "source": [
    "### Exercise 1 - Print pattern\n",
    "\n",
    "o  \n",
    "o o  \n",
    "o o o  \n",
    "o o o o  \n",
    "o o o o o  \n",
    "\n",
    "But this time define a function and pass number of rows/lines as a user input."
   ]
  },
  {
   "cell_type": "markdown",
   "metadata": {},
   "source": [
    "#### Solution"
   ]
  },
  {
   "cell_type": "code",
   "execution_count": 22,
   "metadata": {},
   "outputs": [],
   "source": [
    "def print_pattern(n):\n",
    "    \"\"\"\n",
    "    Prints 'increasing triangle' pattern\n",
    "    \"\"\"    \n",
    "    for i in range(n):\n",
    "        for j in range(i+1): # we change n to i+1 for increasing triangle\n",
    "            print('o', end='  ')\n",
    "        print()"
   ]
  },
  {
   "cell_type": "code",
   "execution_count": 23,
   "metadata": {},
   "outputs": [
    {
     "name": "stdout",
     "output_type": "stream",
     "text": [
      "o  \n",
      "o  o  \n",
      "o  o  o  \n",
      "o  o  o  o  \n",
      "o  o  o  o  o  \n"
     ]
    }
   ],
   "source": [
    "n = int(input(\"Enter the number of row you want to print \"))\n",
    "print_pattern(n)"
   ]
  },
  {
   "cell_type": "markdown",
   "metadata": {},
   "source": [
    "---"
   ]
  },
  {
   "cell_type": "markdown",
   "metadata": {},
   "source": [
    "### Documents\n",
    "* Read 'Documents' section of any resource you use in your project for instructions and directions."
   ]
  },
  {
   "cell_type": "markdown",
   "metadata": {},
   "source": [
    "---"
   ]
  },
  {
   "cell_type": "markdown",
   "metadata": {},
   "source": [
    "## Home work\n",
    "* [codeanywhere.com](https://codeanywhere.com/)\n",
    "* Study github\n",
    "* Study and learn how to use [markdown](https://docs.github.com/en/get-started/writing-on-github/getting-started-with-writing-and-formatting-on-github/basic-writing-and-formatting-syntax) syntax\n",
    "* Get familiar and fluent with Jupyter notebook\n",
    "* Revise loop structures (`for` and `while`). Special attention to nested structures\n",
    "* Revise loop control keywords (`pass`, `break`, `continue`)\n",
    "* Revise and understand functions\n",
    "\n"
   ]
  },
  {
   "cell_type": "markdown",
   "metadata": {},
   "source": [
    "---"
   ]
  },
  {
   "cell_type": "markdown",
   "metadata": {},
   "source": [
    "## End of tutorial\n",
    "* Add, commit with messate, push\n",
    "* Open your Github repo to make sure changes are saved\n",
    "\n"
   ]
  },
  {
   "cell_type": "markdown",
   "metadata": {},
   "source": [
    "`git status`<br>\n",
    "\n",
    "`git add --all`<br>\n",
    "\n",
    "`git commit -m \"commit message\"`<br>\n",
    "\n",
    "`git push`"
   ]
  },
  {
   "cell_type": "markdown",
   "metadata": {},
   "source": [
    "---\n",
    "---"
   ]
  },
  {
   "cell_type": "markdown",
   "metadata": {},
   "source": [
    "## Extra material"
   ]
  },
  {
   "cell_type": "markdown",
   "metadata": {},
   "source": [
    "### Big Data and where it stands?"
   ]
  },
  {
   "cell_type": "markdown",
   "metadata": {},
   "source": [
    "![Big data](../assets/img/ai_ml_dl_ds_and_big_data.png)"
   ]
  },
  {
   "cell_type": "markdown",
   "metadata": {},
   "source": [
    "### Models and algorithms in Machine Learning"
   ]
  },
  {
   "cell_type": "markdown",
   "metadata": {},
   "source": [
    "![Models and algorithms in Machine Learning](../assets/img/model_selection.jpg)"
   ]
  },
  {
   "cell_type": "markdown",
   "metadata": {},
   "source": []
  }
 ],
 "metadata": {
  "kernelspec": {
   "display_name": "venv",
   "language": "python",
   "name": "python3"
  },
  "language_info": {
   "codemirror_mode": {
    "name": "ipython",
    "version": 3
   },
   "file_extension": ".py",
   "mimetype": "text/x-python",
   "name": "python",
   "nbconvert_exporter": "python",
   "pygments_lexer": "ipython3",
   "version": "3.12.8"
  }
 },
 "nbformat": 4,
 "nbformat_minor": 2
}
