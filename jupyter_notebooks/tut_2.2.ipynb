{
 "cells": [
  {
   "cell_type": "markdown",
   "metadata": {},
   "source": [
    "# <u>Tut_2.2</u>"
   ]
  },
  {
   "cell_type": "markdown",
   "metadata": {},
   "source": [
    "## Leaning outcomes"
   ]
  },
  {
   "cell_type": "markdown",
   "metadata": {},
   "source": [
    "* Function arguments (positional, keyword, default) and `return`\n",
    "* Variable scope\n",
    "* Importing modules\n",
    "* NumPy\n",
    "* CRISP-DM\n",
    "* ML Pipeline\n"
   ]
  },
  {
   "cell_type": "markdown",
   "metadata": {},
   "source": [
    "---"
   ]
  },
  {
   "cell_type": "markdown",
   "metadata": {},
   "source": [
    "## Positional function arguments and return\n",
    "* Position of arguments in function call **matters**\n",
    "* Keyword argument in function call - position **does not matter**\n",
    "* Default arguments are provided in function **definition**\n",
    "* **No argument**\n",
    "* **No return** value\n",
    "* **Multiple** return value"
   ]
  },
  {
   "cell_type": "code",
   "execution_count": 12,
   "metadata": {},
   "outputs": [],
   "source": [
    "def simple_math(a, b):\n",
    "    print(a + b)\n",
    "    print(a - b)"
   ]
  },
  {
   "cell_type": "code",
   "execution_count": 13,
   "metadata": {},
   "outputs": [
    {
     "name": "stdout",
     "output_type": "stream",
     "text": [
      "11\n",
      "-1\n"
     ]
    }
   ],
   "source": [
    "simple_math(5, 6)"
   ]
  },
  {
   "cell_type": "markdown",
   "metadata": {},
   "source": [
    "---"
   ]
  },
  {
   "cell_type": "markdown",
   "metadata": {},
   "source": [
    "## Variable scope"
   ]
  },
  {
   "cell_type": "markdown",
   "metadata": {},
   "source": [
    "* A variable created **within** the function is **local**. It is only accessible from within the function"
   ]
  },
  {
   "cell_type": "code",
   "execution_count": 16,
   "metadata": {},
   "outputs": [
    {
     "name": "stdout",
     "output_type": "stream",
     "text": [
      "other test\n"
     ]
    }
   ],
   "source": [
    "a = \"other test\"\n",
    "def local_global():\n",
    "    a = \"test string\"\n",
    "    return a\n",
    "\n",
    "print(a)\n",
    " "
   ]
  },
  {
   "cell_type": "markdown",
   "metadata": {},
   "source": [
    "* A variable created **outside** the function is **global** and is 'visible' anywhere"
   ]
  },
  {
   "cell_type": "markdown",
   "metadata": {},
   "source": [
    "---"
   ]
  },
  {
   "cell_type": "markdown",
   "metadata": {},
   "source": [
    "## Importing modules"
   ]
  },
  {
   "cell_type": "code",
   "execution_count": null,
   "metadata": {},
   "outputs": [],
   "source": [
    "from random import randint\n",
    "from math import sqrt"
   ]
  },
  {
   "cell_type": "markdown",
   "metadata": {},
   "source": [
    "---"
   ]
  },
  {
   "cell_type": "markdown",
   "metadata": {},
   "source": [
    "## ML libraries - [NumPy](https://numpy.org/)\n",
    "<img src=\"https://raw.githubusercontent.com/numpy/numpy/181f273a59744d58f90f45d953a3285484c72cba/branding/logo/primary/numpylogo.svg\" width=\"25%\" height=\"25%\" />"
   ]
  },
  {
   "cell_type": "markdown",
   "metadata": {},
   "source": [
    "* **NumPy** *Numerical Python* It is a general-purpose array-processing package, adding support for large, multi-dimensional arrays and matrices, along with a large collection of high-level mathematical functions.\n",
    "* It is used **to process arrays that store values**, aka data. This increases performance and speeds up execution time. Handling data with a NumPy array is faster than Python lists, especially with big data sets.\n",
    "* NumPy arrays are also used to store and process **images**. **TensorFlow**, a ML library, use NumPy arrays for training models.\n",
    "* NumPy array is a **list** of lists.\n",
    "* Python lists can handle elements of different data types, whereas NumPy arrays handle only elements of the same data type.\n",
    "* NumPy also has a big collection of mathematical and linear algebra function; which are the base of machine learning."
   ]
  },
  {
   "cell_type": "markdown",
   "metadata": {},
   "source": [
    "#### Importing a package\n",
    "*Need to be installed first*:<br>\n",
    "`%pip install numpy` # command in Jupyter cell<br>\n",
    "or<br>\n",
    "`$ pip install numpy` # terminal"
   ]
  },
  {
   "cell_type": "code",
   "execution_count": null,
   "metadata": {},
   "outputs": [],
   "source": [
    "import numpy as np"
   ]
  },
  {
   "cell_type": "code",
   "execution_count": 20,
   "metadata": {},
   "outputs": [
    {
     "name": "stdout",
     "output_type": "stream",
     "text": [
      "[11.  12.3 77. ]\n"
     ]
    },
    {
     "data": {
      "text/plain": [
       "array([11. , 12.3, 77. ])"
      ]
     },
     "execution_count": 20,
     "metadata": {},
     "output_type": "execute_result"
    }
   ],
   "source": [
    "# Convert list into an array\n",
    "my_list = [11, 12.3, 77]\n",
    "\n",
    "print(np.array(my_list))\n",
    "\n",
    "np.array(my_list)"
   ]
  },
  {
   "cell_type": "code",
   "execution_count": null,
   "metadata": {},
   "outputs": [
    {
     "name": "stdout",
     "output_type": "stream",
     "text": [
      "<class 'list'>\n",
      "<class 'numpy.ndarray'>\n",
      "11\n"
     ]
    }
   ],
   "source": [
    "print(type(my_list))\n",
    "print(type(np.array(my_list)))\n",
    "print(my_list[0]) # list indexing !!"
   ]
  },
  {
   "cell_type": "code",
   "execution_count": 21,
   "metadata": {},
   "outputs": [],
   "source": [
    "my_list = [[33,22], [22,55]]"
   ]
  },
  {
   "cell_type": "code",
   "execution_count": 22,
   "metadata": {},
   "outputs": [
    {
     "data": {
      "text/plain": [
       "array([[33, 22],\n",
       "       [22, 55]])"
      ]
     },
     "execution_count": 22,
     "metadata": {},
     "output_type": "execute_result"
    }
   ],
   "source": [
    "np.array(my_list)"
   ]
  },
  {
   "cell_type": "markdown",
   "metadata": {},
   "source": [
    "<u>N.b. In Jupyter, last line output of a code cell is printed without `print()` statement! It just looks different!</u>"
   ]
  },
  {
   "cell_type": "markdown",
   "metadata": {},
   "source": [
    "* Please note the **2 brackets** before the first item, which indicates it is a **2-d array**.\n",
    "* A two-dimensional array is said to have two axes"
   ]
  },
  {
   "cell_type": "markdown",
   "metadata": {},
   "source": [
    "---"
   ]
  },
  {
   "cell_type": "markdown",
   "metadata": {},
   "source": [
    "## CRISP-DM Methodology"
   ]
  },
  {
   "cell_type": "markdown",
   "metadata": {},
   "source": [
    "* The **Cr**oss-**i**ndustry **s**tandard **p**rocess for **d**ata **m**ining, known as **CRISP-DM**, is an open standard process model that describes common approaches used by data mining experts\n",
    "* It is the most widely-used analytics model"
   ]
  },
  {
   "cell_type": "markdown",
   "metadata": {},
   "source": [
    "#### 1. Business understanding\n",
    "#### 2. Data understanding\n",
    "#### 3. Data preparation\n",
    "#### 4. Modelling\n",
    "#### 5. Evaluation\n",
    "#### 6. Deployment"
   ]
  },
  {
   "cell_type": "markdown",
   "metadata": {},
   "source": [
    "---"
   ]
  },
  {
   "cell_type": "markdown",
   "metadata": {},
   "source": [
    "## Machine Learning (ML) Pipeline"
   ]
  },
  {
   "cell_type": "markdown",
   "metadata": {},
   "source": [
    "### Introduction\n",
    "Imagine you want to bake a cake. You don’t just throw ingredients together—you follow a step-by-step process:<br>\n",
    "1. Gather ingredients (flour, eggs, sugar, etc.).\n",
    "2. Mix them properly in the right order.\n",
    "3. Bake the cake at the right temperature.\n",
    "4. Check if it’s done and make adjustments if needed.\n",
    "5. Decorate and serve!<br>\n",
    "\n",
    "Machine Learning (ML) follows a similar step-by-step process to make predictions from data. This process is called an ML pipeline.\n",
    "\n",
    "**Deploying a <u>pipeline</u> is like telling the story**\n",
    "#### <u>N.b. In your course work you will **have to** deploy a pipeline - not just your model.</u>\n",
    "\n"
   ]
  },
  {
   "cell_type": "markdown",
   "metadata": {},
   "source": [
    "### What is an ML Pipeline?\n",
    "* An ML pipeline is a structured way to go from raw data to a working machine learning model. It ensures that all the necessary steps are followed to train and evaluate the model.\n",
    "* Think of it as an assembly line where each step processes the data before passing it to the next stage."
   ]
  },
  {
   "cell_type": "markdown",
   "metadata": {},
   "source": [
    "### Main steps\n",
    "#### 1. Data collection\n",
    "* Just like gathering ingredients for a recipe, the first step is to collect data.\n",
    "* Data can come from:\n",
    "\t* CSV files\n",
    "\t* Databases\n",
    "\t* APIs\n",
    "\t* Sensors\n",
    "* Example: Collecting customer data from a shopping website.\n",
    "\n",
    "#### 2. Data Preprocessing (Cleaning & Formatting)\n",
    "* Raw data is often messy (has missing values, duplicates, errors).\n",
    "* This step cleans the data so the model can learn properly.\n",
    "* Example Steps in Data Preprocessing:\n",
    "\t* Remove missing values or replace them\n",
    "\t* Convert text into numbers (if necessary)\n",
    "\t* Normalize data (scaling numbers to a standard range)\n",
    "* Analogy: Like washing and cutting vegetables before cooking!\n",
    "\n",
    "#### 3. Model Training\n",
    "* Here, we choose a Machine Learning algorithm and train it on the data.\n",
    "* The model learns patterns from the training data.\n",
    "* Example Algorithms:\n",
    "\t* Decision Trees\n",
    "\t* Linear Regression\n",
    "\t* Neural Networks\n",
    "* Analogy: Like a chef learning a new recipe—practicing until they get it right!\n",
    "\n",
    "#### 4. Model Evaluation\n",
    "* We test the model to see how well it performs.\n",
    "* This step ensures the model can make accurate predictions.\n",
    "* Example Metrics:\n",
    "\t* Accuracy\n",
    "\t* Precision & Recall\n",
    "\t* Mean Squared Error (MSE)\n",
    "* Analogy: Like tasting the cake to see if it's good or needs improvement!\n",
    "\n",
    "#### 5. Deployment & Predictions\n",
    "* If the model works well, we deploy it to make real-world predictions.\n",
    "* Users or applications can now use the trained model.\n",
    "* Example:\n",
    "\t* A model that predicts house prices based on location, size, and number of rooms.\n",
    "\t* A model that recommends movies based on what a user has watched before.\n",
    "* Analogy: Like serving the cake at a party!\n"
   ]
  },
  {
   "cell_type": "markdown",
   "metadata": {},
   "source": [
    "[Sample of ML pipeline and CRISP-DM procedures - how to write them down in README.md](https://github.com/DrSYakovlev/corals_health.git)"
   ]
  },
  {
   "cell_type": "markdown",
   "metadata": {},
   "source": [
    "---"
   ]
  },
  {
   "cell_type": "markdown",
   "metadata": {},
   "source": [
    "## Homework\n",
    "\n",
    "* Revise application of `global` and `nonlocal` keywords. What they do and where to use them\n",
    "* **Exercise**: Using nested `for` loops, create list of lists (dimensions to be entered by a user) and convert it into NumPy array.\n",
    "* NumPy library:\n",
    "\t* Revise built-in methods (`np.zeros()`, `np.ones()`, `np.linspace()`, `np.random.seed(seed=1)`)\n",
    "\t* Revise methods and attributes(`shape`, `min()`, `max()`, `reshape()`, `arrange()`)\n",
    "\t"
   ]
  },
  {
   "cell_type": "markdown",
   "metadata": {},
   "source": []
  }
 ],
 "metadata": {
  "kernelspec": {
   "display_name": "venv",
   "language": "python",
   "name": "python3"
  },
  "language_info": {
   "codemirror_mode": {
    "name": "ipython",
    "version": 3
   },
   "file_extension": ".py",
   "mimetype": "text/x-python",
   "name": "python",
   "nbconvert_exporter": "python",
   "pygments_lexer": "ipython3",
   "version": "3.12.8"
  }
 },
 "nbformat": 4,
 "nbformat_minor": 2
}
