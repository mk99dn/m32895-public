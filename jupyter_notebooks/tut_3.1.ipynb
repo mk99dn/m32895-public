{
 "cells": [
  {
   "cell_type": "markdown",
   "metadata": {},
   "source": [
    "# <u>Tut_3.1</u>"
   ]
  },
  {
   "cell_type": "markdown",
   "metadata": {},
   "source": [
    "## Learning outcomes"
   ]
  },
  {
   "cell_type": "markdown",
   "metadata": {},
   "source": [
    "* Homework (tut_2.2) review\n",
    "* List indexing\n",
    "* How to access elements of a **list**\n",
    "* List slicing\n",
    "* What is **tuple** and why we use it\n",
    "* **pip** installation manager\n",
    "* NumPy (*Part II*) - load image into an array\n",
    "* **Course Work** - *Beginning of the journey*"
   ]
  },
  {
   "cell_type": "markdown",
   "metadata": {},
   "source": [
    "---"
   ]
  },
  {
   "cell_type": "code",
   "execution_count": null,
   "metadata": {},
   "outputs": [],
   "source": [
    "# exercise from last tutorial (tut_2.2)\n",
    "# create NumPy array\n",
    "# create NumPy array of zeroes and ones\n",
    "# create NumPy array of"
   ]
  },
  {
   "cell_type": "markdown",
   "metadata": {},
   "source": [
    "---"
   ]
  },
  {
   "cell_type": "markdown",
   "metadata": {},
   "source": [
    "### List indexing, list slicing"
   ]
  },
  {
   "cell_type": "code",
   "execution_count": null,
   "metadata": {},
   "outputs": [],
   "source": [
    "# This is not a part of the topic.\n",
    "# This little snippet is just to generate a list of random numbers to work with.\n",
    "import random\n",
    "my_list = []\n",
    "for i in range(10):\n",
    "    my_list.append(random.randint(1,10))\n",
    "my_list"
   ]
  },
  {
   "cell_type": "code",
   "execution_count": null,
   "metadata": {},
   "outputs": [],
   "source": [
    "# In-class exercise: accessing list element, list slicing"
   ]
  },
  {
   "cell_type": "markdown",
   "metadata": {},
   "source": [
    "---"
   ]
  },
  {
   "cell_type": "markdown",
   "metadata": {},
   "source": [
    "### Tuple"
   ]
  },
  {
   "cell_type": "markdown",
   "metadata": {},
   "source": [
    "* A **tuple** is a collection of ordered elements like a list, but immutable (cannot be changed after creation)\n",
    "* Tuples are written using parentheses ( ) instead of square brackets [ ]: `my_tuple = (a, b, 'string', True)`\n",
    "* Tuples can store different data types\n",
    "* **Tuple unpacking** allows extracting values directly:\n",
    "```\n",
    "person = (\"Alice\", 25, \"Engineer\")\n",
    "name, age, job = person\n",
    "print(name)  # Output: Alice\n",
    "print(age)   # Output: 25\n",
    "print(job)   # Output: Engineer\n",
    "```\n",
    "You can access tuple elements using indexing, like lists:\n",
    "```\n",
    "print(person[0])  # Output: Alice\n",
    "```\n",
    "* Tuples are faster and safer than lists when you don’t need to modify the data.\n",
    "* Single-element tuples must include a comma: `single = (5,)  # Correct`\n",
    "* Tuples support iteration in loops:\n",
    "```\n",
    "for item in person:\n",
    "    print(item)\n",
    "```\n",
    "* **Tuples are useful for returning multiple values from functions and methods!**\n",
    "* *We will see it a lot when using `.shape` attribute"
   ]
  },
  {
   "cell_type": "code",
   "execution_count": null,
   "metadata": {},
   "outputs": [],
   "source": [
    "# In-class exercise: a function with multiple output\n",
    "def input_numbers():\n",
    "    a = input(\"Enter a:\")\n",
    "    b = input(\"Enter b:\")\n",
    "    return a, b\n"
   ]
  },
  {
   "cell_type": "code",
   "execution_count": null,
   "metadata": {},
   "outputs": [],
   "source": [
    "type(input_numbers())"
   ]
  },
  {
   "cell_type": "code",
   "execution_count": null,
   "metadata": {},
   "outputs": [],
   "source": [
    "import numpy as np\n",
    "\n",
    "np.zeros(shape=(4, 5)) # shape parameter is given in the form of **tuple** datatype"
   ]
  },
  {
   "cell_type": "markdown",
   "metadata": {},
   "source": [
    "---"
   ]
  },
  {
   "cell_type": "markdown",
   "metadata": {},
   "source": [
    "### **pip** installation manager"
   ]
  },
  {
   "cell_type": "markdown",
   "metadata": {},
   "source": [
    "---"
   ]
  },
  {
   "cell_type": "markdown",
   "metadata": {},
   "source": [
    "### Load image into a NumPy array"
   ]
  },
  {
   "cell_type": "code",
   "execution_count": null,
   "metadata": {},
   "outputs": [],
   "source": [
    "import matplotlib.pyplot as plt  # displaying images\n",
    "import PIL  # Python Imaging Library - image editing\n",
    "import urllib  # Library handling URLs (like requesting)"
   ]
  },
  {
   "cell_type": "markdown",
   "metadata": {},
   "source": [
    "* The **matplotlib** package imported here will be studied in more detail in future tutorials. This library is of utmost importance for data visualisation\n",
    "* **PIL** allows opening, manipulating, and saving images in various formats (JPEG, PNG, BMP, etc.)\n",
    "* **urllib** self-explanatory"
   ]
  },
  {
   "cell_type": "code",
   "execution_count": null,
   "metadata": {},
   "outputs": [],
   "source": [
    "# Define url of an image we want to load\n",
    "# This can also be a path to a local file\n",
    "image_url = \"https://upload.wikimedia.org/wikipedia/commons/4/47/PNG_transparency_demonstration_1.png\"\n"
   ]
  },
  {
   "cell_type": "code",
   "execution_count": null,
   "metadata": {},
   "outputs": [],
   "source": [
    "image_data = urllib.request.urlopen(image_url)\n",
    "image = PIL.Image.open(image_data)\n",
    "np_image = np.array(image)"
   ]
  },
  {
   "cell_type": "code",
   "execution_count": null,
   "metadata": {},
   "outputs": [],
   "source": [
    "type(np_image)"
   ]
  },
  {
   "cell_type": "code",
   "execution_count": null,
   "metadata": {},
   "outputs": [],
   "source": [
    "plt.imshow(np_image)"
   ]
  },
  {
   "cell_type": "code",
   "execution_count": null,
   "metadata": {},
   "outputs": [],
   "source": [
    "np_image.shape  # N.b. We have 4 channels instead of 3!"
   ]
  },
  {
   "cell_type": "code",
   "execution_count": null,
   "metadata": {},
   "outputs": [],
   "source": [
    "plt.imshow(np_image[200:500,100:500:,3:4])"
   ]
  },
  {
   "cell_type": "code",
   "execution_count": null,
   "metadata": {},
   "outputs": [],
   "source": [
    "image_red_only = np_image.copy()\n",
    "image_red_only[:,:,1] = 0  # This is the Green channel, we \"shut down\" it here\n",
    "image_red_only[:, :,2] = 0  # This is the Blue channel, we \"shut down\" it here\n"
   ]
  },
  {
   "cell_type": "code",
   "execution_count": null,
   "metadata": {},
   "outputs": [],
   "source": [
    "plt.imshow(image_red_only)"
   ]
  },
  {
   "cell_type": "markdown",
   "metadata": {},
   "source": [
    "---"
   ]
  },
  {
   "cell_type": "markdown",
   "metadata": {},
   "source": [
    "### End of tutorial commit"
   ]
  },
  {
   "cell_type": "markdown",
   "metadata": {},
   "source": [
    "---"
   ]
  },
  {
   "cell_type": "markdown",
   "metadata": {},
   "source": [
    "## Course work!"
   ]
  }
 ],
 "metadata": {
  "kernelspec": {
   "display_name": "venv",
   "language": "python",
   "name": "python3"
  },
  "language_info": {
   "codemirror_mode": {
    "name": "ipython",
    "version": 3
   },
   "file_extension": ".py",
   "mimetype": "text/x-python",
   "name": "python",
   "nbconvert_exporter": "python",
   "pygments_lexer": "ipython3",
   "version": "3.12.8"
  }
 },
 "nbformat": 4,
 "nbformat_minor": 2
}
