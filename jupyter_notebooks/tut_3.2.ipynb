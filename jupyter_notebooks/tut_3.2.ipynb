{
 "cells": [
  {
   "cell_type": "markdown",
   "metadata": {},
   "source": [
    "# <u>Tut_3.2</u>"
   ]
  },
  {
   "cell_type": "markdown",
   "metadata": {},
   "source": [
    "## Learning outcomes and topics"
   ]
  },
  {
   "cell_type": "markdown",
   "metadata": {},
   "source": [
    "* **Pandas**\n",
    "* **Plotly Express**\n",
    "* Linear regression code-along walkthrough project (Part I)\n",
    "* Code validation"
   ]
  },
  {
   "cell_type": "markdown",
   "metadata": {},
   "source": [
    "---"
   ]
  },
  {
   "cell_type": "markdown",
   "metadata": {},
   "source": [
    "### Pandas"
   ]
  },
  {
   "cell_type": "markdown",
   "metadata": {},
   "source": [
    "<svg xmlns=\"http://www.w3.org/2000/svg\" width=\"200\" viewBox=\"0 0 128 128\"><path style=\"-inkscape-stroke:none\" d=\"M48.697 15.176h12.25v25.437h-12.25zm0 52.251h12.25v25.436h-12.25z\" color=\"#000\" fill=\"#130754\"/><path style=\"-inkscape-stroke:none\" d=\"M48.697 48.037h12.25v12.001h-12.25z\" color=\"#000\" fill=\"#ffca00\"/><path style=\"-inkscape-stroke:none\" d=\"M29.017 36.087h12.25v84.552h-12.25zM67.97 88.414h12.25v25.436H67.97zm0-52.297h12.25v25.437H67.97z\" color=\"#000\" fill=\"#130754\"/><path style=\"-inkscape-stroke:none\" d=\"M67.97 68.983h12.25v12.001H67.97z\" color=\"#000\" fill=\"#e70488\"/><path style=\"-inkscape-stroke:none\" d=\"M87.238 8.55h12.25v84.552h-12.25z\" color=\"#000\" fill=\"#130754\"/></svg>\n"
   ]
  },
  {
   "cell_type": "markdown",
   "metadata": {},
   "source": [
    "* **Pandas** stands for *Panel Data*. Nowadays **DataFrame term** is mostly used\n",
    "* Pandas was first released in 2008 and is used to analyze and manipulate data. It is considered one of the most important libraries in Data Science!\n",
    "* Pandas is built on top of NumPy. A lot of NumPy's structure is used or replicated on it.\n",
    "* For data analysis, data exploration, data manipulation, and data visualization. This is the backbone of any data science project.\n",
    "* Pandas is used for data manipulation and to help clean messy data sets and make them readable and relevant"
   ]
  },
  {
   "cell_type": "markdown",
   "metadata": {},
   "source": [
    "---"
   ]
  },
  {
   "cell_type": "markdown",
   "metadata": {},
   "source": [
    "#### Pandas Series and DataFrames\n",
    "* `pd.Series()`\n",
    "* `pd.Dataframe()`"
   ]
  },
  {
   "cell_type": "markdown",
   "metadata": {},
   "source": [
    "---"
   ]
  },
  {
   "cell_type": "markdown",
   "metadata": {},
   "source": [
    "### Plotly"
   ]
  },
  {
   "cell_type": "markdown",
   "metadata": {},
   "source": [
    "<svg xmlns=\"http://www.w3.org/2000/svg\" width=\"200\" viewBox=\"0 0 128 128\"><path fill=\"#3d4c73\" d=\"M117.214 128H10.782C5.16 128 .598 123.289.598 117.482V10.518C.598 4.707 5.16 0 10.786 0h106.428c5.63 0 10.188 4.707 10.188 10.518v106.964c0 5.807-4.562 10.518-10.188 10.518\"/><path fill=\"#7fcfbd\" d=\"M53.475 24.783a1.43 1.43 0 0 0-1.004.553 9.948 9.948 0 0 0-.846-.043c-.173 0-.334.011-.482.035-.9-.353-1.859-.36-2.272.783-.152.458-.24.93-.256 1.412a1.91 1.91 0 0 0-.441.457c-.867 1.248-.746 3.448-.4 4.84.585 2.372 3.113 4.238 5.3 3.535.18-.032.356-.1.508-.209 1.168.221 2.442-.172 3.461-1.408 1.513-1.846 1.668-4.341.785-6.412a1.12 1.12 0 0 0-.441-.863 6.37 6.37 0 0 0-1.903-1.998c-.662-.442-1.38-.744-2.01-.682zm44.957 0a1.436 1.436 0 0 0-1.006.553 9.943 9.943 0 0 0-.846-.043c-.172 0-.334.011-.482.035-.895-.353-1.853-.36-2.266.783-.156.458-.246.93-.262 1.412-.168.129-.317.28-.437.457-.871 1.248-.746 3.448-.4 4.84.585 2.372 3.11 4.238 5.296 3.535.18-.032.358-.1.51-.209 1.168.221 2.444-.172 3.46-1.408 1.516-1.846 1.67-4.341.788-6.412a1.136 1.136 0 0 0-.445-.863 6.357 6.357 0 0 0-1.899-1.998c-.664-.442-1.382-.744-2.011-.682zm-69.332.862c-1.358-.05-2.681.467-3.498 1.75a3.76 3.76 0 0 0-.202.35 5.55 5.55 0 0 0-1.812 3.198.699.699 0 0 0-.49.674c-.04 1.445.702 2.58 1.77 3.338 1.11 1 2.765 1.401 4.378 1.45 2.388.063 4.031-1.246 4.774-2.98l.029-.034c1.268-1.67 1.415-3.99-.406-5.293a6.089 6.089 0 0 0-.313-.21 5.766 5.766 0 0 0-1.225-1.195 5.573 5.573 0 0 0-3.005-1.048zm46.296.003c-1.357-.048-2.682.468-3.5 1.75a3.23 3.23 0 0 0-.199.346 5.54 5.54 0 0 0-1.814 3.203.694.694 0 0 0-.49.674c-.045 1.445.698 2.576 1.77 3.338 1.11 1 2.765 1.401 4.374 1.445 2.388.064 4.037-1.245 4.775-2.978l.028-.035c1.272-1.67 1.421-3.985-.4-5.29-.105-.072-.207-.14-.311-.208a5.773 5.773 0 0 0-1.227-1.196 5.567 5.567 0 0 0-3.006-1.049zm-44.619 2.655a6.09 6.09 0 0 1 1.494.597c.173.225.312.466.424.723a3.16 3.16 0 0 0-1.203-.674c-.092-.204-.264-.37-.469-.41l-.06-.016a4.915 4.915 0 0 0-.186-.22zm46.297 0a6.14 6.14 0 0 1 1.492.597c.169.225.314.466.426.723a3.197 3.197 0 0 0-1.205-.674c-.092-.204-.264-.37-.473-.41l-.06-.016a3.083 3.083 0 0 0-.18-.22zm-24.285.636c.064.029.127.062.2.102.035.024.073.048.109.076.092.498.063 1.172-.338 1.393a9.813 9.813 0 0 1 .03-1.57zm44.955 0c.068.029.131.062.2.102l.113.076c.092.498.06 1.172-.342 1.393-.032-.525-.019-1.05.03-1.57zM29.59 30.141a.618.618 0 0 0 .12.076c.13.06.261.099.397.127.016.1.022.202.022.302-.225-.296-.635-.32-.936-.144l-.056-.225.453-.136zm46.297 0a.604.604 0 0 0 .119.076c.128.06.262.099.402.127.012.1.016.202.016.302-.225-.296-.635-.32-.94-.144l-.056-.225.459-.136zm-48.17.468c.012.093.027.185.05.278.037.136.077.271.126.412-.14-.153-.204-.38-.176-.69zm46.295.004c.04.233.095.461.172.686-.137-.153-.2-.377-.172-.686zm-16.967.11c.028.975-.212 1.954-.75 2.789h.004c-.333.521-.733.877-1.158 1.093.28-.433.548-.95.789-1.515.056-.117.104-.233.152-.354.177-.16.277-.402.213-.63a.07.07 0 0 1 .008-.028c.349-.26.595-.746.691-1.267l.05-.088zm44.96 0a4.913 4.913 0 0 1-.751 2.789c-.333.521-.729.877-1.154 1.093.276-.433.548-.95.785-1.515.056-.117.11-.233.158-.354.177-.16.275-.402.207-.63.004-.009.004-.02.008-.028.349-.26.599-.746.691-1.267l.057-.088zm-53.124.199c.225.822.553 1.626.89 2.332.197.522.445 1.071.766 1.473a3.267 3.267 0 0 1-.46-.354c-.747-.694-1.077-1.745-1.169-2.736a8.449 8.449 0 0 1-.027-.715zm44.959 0c.22.822.55 1.626.89 2.332.193.522.445 1.071.762 1.473a3.267 3.267 0 0 1-.46-.354c-.747-.694-1.072-1.745-1.169-2.736a7.054 7.054 0 0 1-.023-.715zm-62.23.787c.084.245.087.482.035.71l-.188-.368c.06-.113.112-.222.152-.342zm46.294.004c.085.245.09.482.037.707l-.189-.365a2.95 2.95 0 0 0 .152-.342zm-48.482 2.183c.06.073.125.141.19.21-.394.112-.808.14-1.214.076l.069-.084c.325-.02.646-.085.955-.202zm46.295 0c.06.073.121.141.19.21-.394.112-.812.14-1.214.076l.065-.086c.325-.02.65-.083.959-.2zM29.1 46.713c-1.358-.05-2.681.468-3.498 1.75a3.76 3.76 0 0 0-.202.35 5.555 5.555 0 0 0-1.812 3.2.699.699 0 0 0-.49.675c-.04 1.444.702 2.577 1.77 3.335 1.11 1.004 2.765 1.404 4.378 1.448 2.388.06 4.031-1.243 4.774-2.977l.029-.037c1.268-1.673 1.415-3.989-.406-5.293-.105-.068-.205-.135-.313-.203a5.793 5.793 0 0 0-1.225-1.201 5.588 5.588 0 0 0-3.005-1.047zm46.296 0c-1.357-.05-2.682.468-3.5 1.75-.072.112-.139.23-.199.35a5.536 5.536 0 0 0-1.814 3.2.694.694 0 0 0-.49.675c-.045 1.444.698 2.577 1.77 3.335 1.11 1.004 2.765 1.404 4.374 1.448 2.388.06 4.037-1.243 4.775-2.977l.028-.037c1.272-1.673 1.421-3.989-.4-5.293l-.311-.203a5.899 5.899 0 0 0-1.227-1.201 5.582 5.582 0 0 0-3.006-1.047zm-44.619 2.652a6.423 6.423 0 0 1 1.494.598c.173.225.312.47.424.726a3.168 3.168 0 0 0-1.203-.677c-.092-.2-.264-.37-.469-.41l-.06-.012a5.01 5.01 0 0 0-.186-.225zm46.297 0a6.479 6.479 0 0 1 1.492.598c.169.225.314.47.426.726a3.206 3.206 0 0 0-1.205-.677c-.092-.2-.264-.37-.473-.41l-.06-.012a3.146 3.146 0 0 0-.18-.225zM29.59 51.203a.619.619 0 0 0 .12.076c.13.06.261.105.397.133.016.1.022.197.022.297-.225-.297-.635-.317-.936-.145l-.056-.22.453-.14zm46.297 0a.604.604 0 0 0 .119.076c.128.06.262.105.402.133.012.1.016.197.016.297-.225-.297-.635-.317-.94-.145l-.056-.22.459-.14zm-48.17.473c.032.237.091.47.176.691-.14-.152-.204-.382-.176-.691zm46.295 0c.028.237.087.47.172.691-.137-.152-.2-.382-.172-.691zm-42.403 1.1c.085.244.088.482.036.71-.06-.124-.124-.244-.188-.369.06-.108.112-.221.152-.342zm46.295 0c.085.244.088.482.035.71-.064-.124-.127-.244-.187-.369.06-.108.112-.221.152-.342zm-48.482 2.187c.06.068.125.14.19.209a2.944 2.944 0 0 1-1.214.072l.069-.08v-.004c.325-.02.646-.085.955-.197zm46.295 0c.06.068.121.14.19.209a2.952 2.952 0 0 1-1.214.072l.065-.08v-.004c.325-.02.65-.085.959-.197z\"/><path fill=\"#fff\" d=\"M30.248 69.036c-3.105 0-5.622 2.56-5.622 5.722v22.873c0 3.162 2.517 5.718 5.622 5.718 3.106 0 5.622-2.556 5.622-5.718V74.758c0-3.158-2.516-5.718-5.622-5.718m44.972-.004c-3.106 0-5.618 2.56-5.618 5.722v22.873c0 3.162 2.512 5.718 5.618 5.718 3.102 0 5.622-2.556 5.622-5.718V74.758c0-3.158-2.52-5.718-5.622-5.718M52.736 46.163c-3.106 0-5.622 2.56-5.622 5.714v45.754c0 3.162 2.516 5.718 5.622 5.718s5.618-2.556 5.618-5.718V51.877c0-3.158-2.512-5.718-5.618-5.718m44.971.004c-3.105 0-5.621 2.56-5.621 5.714v45.754c0 3.162 2.516 5.718 5.621 5.718 3.102 0 5.622-2.556 5.622-5.718V51.877c0-3.158-2.52-5.718-5.622-5.718\"/></svg>\n"
   ]
  },
  {
   "cell_type": "markdown",
   "metadata": {},
   "source": [
    "* Plotly is a data visualisation library written in JavaScript, making graphs inherently interactive\n",
    "* Plotly offers more than thirty unique charts and wide customisation for statistical, geographical, financial, and 3-D plot types\n",
    "* The core aspect of plotly allows you to hover over values to reveal more detail and zoom in and out of your graphs\n",
    "* The interactivity and animation of the plots allow you to do a much deeper and more extensive investigation of your data while maintaining a substantial level of customisation"
   ]
  },
  {
   "cell_type": "code",
   "execution_count": null,
   "metadata": {},
   "outputs": [],
   "source": [
    "import plotly.express as px"
   ]
  },
  {
   "cell_type": "code",
   "execution_count": null,
   "metadata": {},
   "outputs": [],
   "source": [
    "df = px.data.carshare()\n",
    "df = df.sample(n=50, random_state=1)\n",
    "df.head()"
   ]
  },
  {
   "cell_type": "code",
   "execution_count": null,
   "metadata": {},
   "outputs": [],
   "source": [
    "fig = px.scatter_mapbox(data_frame=df, lat=\"centroid_lat\", lon=\"centroid_lon\", color=\"peak_hour\", size=\"car_hours\",\n",
    "                        mapbox_style='open-street-map', #### don't foret this argument :)\n",
    "                        color_continuous_scale=\"plasma\",\n",
    "                        size_max=15, zoom=10)\n",
    "fig.show()\n"
   ]
  },
  {
   "cell_type": "code",
   "execution_count": null,
   "metadata": {},
   "outputs": [],
   "source": [
    "df = px.data.gapminder().query(\"year == 2007\")\n",
    "print(df.shape)\n",
    "df.head()"
   ]
  },
  {
   "cell_type": "code",
   "execution_count": null,
   "metadata": {},
   "outputs": [],
   "source": [
    "fig = px.sunburst(data_frame=df, path=['continent', 'country'], values='pop',\n",
    "                  color='gdpPercap', hover_name='iso_alpha', hover_data=['lifeExp'])\n",
    "fig.show()"
   ]
  },
  {
   "cell_type": "markdown",
   "metadata": {},
   "source": [
    "---"
   ]
  },
  {
   "cell_type": "markdown",
   "metadata": {},
   "source": [
    "### Linear regression code-along BDA/Data Science project"
   ]
  },
  {
   "cell_type": "markdown",
   "metadata": {},
   "source": [
    "<u>We are not implementing **ML Pipeline** concepts in this project, but remember - they are there and ultimately we deploy the whole Pipeline (data story), not just a final model.</u>"
   ]
  },
  {
   "cell_type": "markdown",
   "metadata": {},
   "source": [
    "* **Purpose of the project**: Predicting medical expences using Linear Regression\n",
    "* **Business question**: what would be medical charges for new customers?"
   ]
  },
  {
   "cell_type": "markdown",
   "metadata": {},
   "source": [
    "#### Import packages"
   ]
  },
  {
   "cell_type": "code",
   "execution_count": null,
   "metadata": {},
   "outputs": [],
   "source": [
    "import numpy as np\n",
    "import pandas as pd\n",
    "import plotly.express as px # Interactive charts and save some coding; .express - high-level api\n",
    "import matplotlib\n",
    "import matplotlib.pyplot as plt\n",
    "import seaborn as sns"
   ]
  },
  {
   "cell_type": "code",
   "execution_count": null,
   "metadata": {},
   "outputs": [],
   "source": [
    "# Change settings to improve default style (optional)\n",
    "sns.set_style('darkgrid')\n",
    "matplotlib.rcParams['font.size'] = 14\n",
    "matplotlib.rcParams['figure.figsize'] = (10, 6)\n",
    "matplotlib.rcParams['figure.facecolor'] = '#00000000'"
   ]
  },
  {
   "cell_type": "markdown",
   "metadata": {},
   "source": [
    "* Data path"
   ]
  },
  {
   "cell_type": "code",
   "execution_count": null,
   "metadata": {},
   "outputs": [],
   "source": [
    "data_path = r'C:\\Users\\soyak\\OneDrive\\Documents\\m32895\\inputs\\raw_data\\medical-charges.csv'"
   ]
  },
  {
   "cell_type": "markdown",
   "metadata": {},
   "source": [
    "* Load data"
   ]
  },
  {
   "cell_type": "code",
   "execution_count": null,
   "metadata": {},
   "outputs": [],
   "source": [
    "medical_df = pd.read_csv(data_path)"
   ]
  },
  {
   "cell_type": "markdown",
   "metadata": {},
   "source": [
    "* See the data and make sure it is downloaded and stored in `medical_df` variable"
   ]
  },
  {
   "cell_type": "code",
   "execution_count": null,
   "metadata": {},
   "outputs": [],
   "source": [
    "medical_df.info()  # Dataset information"
   ]
  },
  {
   "cell_type": "code",
   "execution_count": null,
   "metadata": {},
   "outputs": [],
   "source": [
    "medical_df.head()  # Top lines of the dataset"
   ]
  },
  {
   "cell_type": "code",
   "execution_count": null,
   "metadata": {},
   "outputs": [],
   "source": [
    "medical_df.describe()  # Statistical description"
   ]
  },
  {
   "cell_type": "code",
   "execution_count": null,
   "metadata": {},
   "outputs": [],
   "source": [
    "medical_df['age'].describe() # you an use .describe() method on selected columns"
   ]
  },
  {
   "cell_type": "code",
   "execution_count": null,
   "metadata": {},
   "outputs": [],
   "source": [
    "medical_df[['age', 'bmi']].describe()"
   ]
  },
  {
   "cell_type": "markdown",
   "metadata": {},
   "source": [
    "#### EDA and visualisation"
   ]
  },
  {
   "cell_type": "markdown",
   "metadata": {},
   "source": [
    "* Age distribution"
   ]
  },
  {
   "cell_type": "code",
   "execution_count": null,
   "metadata": {},
   "outputs": [],
   "source": [
    "fig = px.histogram(\n",
    "    medical_df,\n",
    "    x='age',\n",
    "    marginal='box',\n",
    "    nbins=47, # bin for each year. Calculated from min and max age in the dataset.\n",
    "    title=\"Age distribution\"\n",
    ")\n",
    "fig.update_layout(bargap=0.1)\n",
    "fig.show()"
   ]
  },
  {
   "cell_type": "markdown",
   "metadata": {},
   "source": [
    "* BMI distribution"
   ]
  },
  {
   "cell_type": "code",
   "execution_count": null,
   "metadata": {},
   "outputs": [],
   "source": [
    "fig = px.histogram(\n",
    "    medical_df,\n",
    "    x='bmi',\n",
    "    marginal='box',\n",
    "    color_discrete_sequence=['red'],\n",
    "    nbins=47, # bin for each year. Calculated from min and max age in the dataset.\n",
    "    title=\"BMI distribution\"\n",
    ")\n",
    "fig.update_layout(bargap=0.1)\n",
    "fig.show()"
   ]
  },
  {
   "cell_type": "markdown",
   "metadata": {},
   "source": [
    "* Charges"
   ]
  },
  {
   "cell_type": "code",
   "execution_count": null,
   "metadata": {},
   "outputs": [],
   "source": [
    "fig = px.histogram(\n",
    "    medical_df,\n",
    "    x='charges',\n",
    "    color='smoker',\n",
    "    marginal='box',\n",
    "    color_discrete_sequence=['green', 'grey'],\n",
    "    nbins=47, # bin for each year. Calculated from min and max age in the dataset.\n",
    "    title=\"Annual medical charges\"\n",
    ")\n",
    "fig.update_layout(bargap=0.1)\n",
    "fig.show()"
   ]
  },
  {
   "cell_type": "markdown",
   "metadata": {},
   "source": [
    "* Smoker"
   ]
  },
  {
   "cell_type": "code",
   "execution_count": null,
   "metadata": {},
   "outputs": [],
   "source": [
    "medical_df.smoker.value_counts()"
   ]
  },
  {
   "cell_type": "code",
   "execution_count": null,
   "metadata": {},
   "outputs": [],
   "source": [
    "px.histogram(\n",
    "    medical_df,\n",
    "    x='smoker',\n",
    "    color='sex',\n",
    "    title=\"Smoker\"\n",
    ")"
   ]
  },
  {
   "cell_type": "markdown",
   "metadata": {},
   "source": [
    "* Age and charges"
   ]
  },
  {
   "cell_type": "code",
   "execution_count": null,
   "metadata": {},
   "outputs": [],
   "source": [
    "fig = px.scatter(\n",
    "    medical_df,\n",
    "    x='age',\n",
    "    y='charges',\n",
    "    color='smoker',\n",
    "    opacity=0.8,\n",
    "    hover_data=['sex'],\n",
    "    title=\"Age vs. Charges\"    \n",
    ")\n",
    "fig.update_traces(marker_size=5)\n",
    "fig.show()"
   ]
  },
  {
   "cell_type": "markdown",
   "metadata": {},
   "source": [
    "* BMI and charges"
   ]
  },
  {
   "cell_type": "code",
   "execution_count": null,
   "metadata": {},
   "outputs": [],
   "source": [
    "fig = px.scatter(\n",
    "    medical_df,\n",
    "    x='bmi',\n",
    "    y='charges',\n",
    "    color='smoker',\n",
    "    opacity=0.8,\n",
    "    hover_data=['sex'],\n",
    "    title=\"BMI vs. Charges\"    \n",
    ")\n",
    "fig.update_traces(marker_size=5)\n",
    "fig.show()"
   ]
  },
  {
   "cell_type": "code",
   "execution_count": null,
   "metadata": {},
   "outputs": [],
   "source": [
    "px.violin(\n",
    "    medical_df,\n",
    "    x='children',\n",
    "    y='charges'\n",
    ")"
   ]
  },
  {
   "cell_type": "markdown",
   "metadata": {},
   "source": [
    "<u>All above is called \"EDA\". At this point try to summarize it and offer explanation/interpretation/hypothesis.</u>"
   ]
  },
  {
   "cell_type": "markdown",
   "metadata": {},
   "source": [
    "---"
   ]
  },
  {
   "cell_type": "markdown",
   "metadata": {},
   "source": [
    "### Code validation"
   ]
  },
  {
   "cell_type": "markdown",
   "metadata": {},
   "source": [
    "[Code Institute PEP8 Linter](https://pep8ci.herokuapp.com/)"
   ]
  },
  {
   "cell_type": "markdown",
   "metadata": {},
   "source": [
    "---"
   ]
  },
  {
   "cell_type": "markdown",
   "metadata": {},
   "source": [
    "### End of tutorial\n",
    "* You can now `add`, `commit` and `push` your notebook to GitHub."
   ]
  },
  {
   "cell_type": "markdown",
   "metadata": {},
   "source": []
  }
 ],
 "metadata": {
  "kernelspec": {
   "display_name": "venv",
   "language": "python",
   "name": "python3"
  },
  "language_info": {
   "codemirror_mode": {
    "name": "ipython",
    "version": 3
   },
   "file_extension": ".py",
   "mimetype": "text/x-python",
   "name": "python",
   "nbconvert_exporter": "python",
   "pygments_lexer": "ipython3",
   "version": "3.12.8"
  }
 },
 "nbformat": 4,
 "nbformat_minor": 2
}
