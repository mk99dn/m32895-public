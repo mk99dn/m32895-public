{
 "cells": [
  {
   "cell_type": "markdown",
   "id": "3f03ee1c",
   "metadata": {},
   "source": [
    "# <u>Tut_11.2</u>"
   ]
  },
  {
   "cell_type": "markdown",
   "id": "4947b855",
   "metadata": {},
   "source": [
    "### Drop-in session"
   ]
  },
  {
   "cell_type": "markdown",
   "id": "05817dd6",
   "metadata": {},
   "source": []
  }
 ],
 "metadata": {
  "language_info": {
   "name": "python"
  }
 },
 "nbformat": 4,
 "nbformat_minor": 5
}
