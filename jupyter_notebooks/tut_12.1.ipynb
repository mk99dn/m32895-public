{
 "cells": [
  {
   "cell_type": "markdown",
   "id": "fd255c94",
   "metadata": {},
   "source": [
    "# <u>Tut_12.1</u>"
   ]
  },
  {
   "cell_type": "markdown",
   "id": "dd7657dd",
   "metadata": {},
   "source": [
    "## Learning outcomes"
   ]
  },
  {
   "cell_type": "markdown",
   "id": "473c528a",
   "metadata": {},
   "source": [
    "* Unsupervised ML\n",
    "* **K-means** clustering\n",
    "* Deploy your ML model with **Panel**"
   ]
  },
  {
   "cell_type": "markdown",
   "id": "4b402d28",
   "metadata": {},
   "source": [
    "---"
   ]
  },
  {
   "cell_type": "markdown",
   "id": "bfc80233",
   "metadata": {},
   "source": [
    "## ML model selection"
   ]
  },
  {
   "cell_type": "markdown",
   "id": "2397f28e",
   "metadata": {},
   "source": [
    "![ML model selection](../assets/img/model_selection.jpg)"
   ]
  },
  {
   "cell_type": "markdown",
   "id": "be7d5f6d",
   "metadata": {},
   "source": [
    "### **Supervised** vs. **Unsupervised** ML. What is the difference?"
   ]
  },
  {
   "cell_type": "markdown",
   "id": "501a3416",
   "metadata": {},
   "source": [
    "![Buttons](https://rainydaymum.co.uk/wp-content/uploads/2016/04/button-box-abc-3.jpg)\n",
    "\n",
    "[Source](https://rainydaymum.co.uk)\n"
   ]
  },
  {
   "cell_type": "markdown",
   "id": "795465e2",
   "metadata": {},
   "source": [
    "* Supervised: learning from **labeled** data in a training dataset. Examples:\n",
    "\t* Classification\n",
    "\t* Regression\n",
    "* Unsupervised: learning from **unlabeled** data. Algorithm tries to find hidden patterns in dataset without being told what they are\n",
    "\t* Clustering (one example) - grouping similar data together. Trying to find the best way to group. Applications: customer segmentation, document grouping, anomaly detection, fraud detection ..."
   ]
  },
  {
   "cell_type": "markdown",
   "id": "6b4d88d8",
   "metadata": {},
   "source": [
    "### K-means clustering\n",
    "* **K-means clustering** is an *unsupervised* machine learning algorithm used to group similar data points into clusters based on their proximity to **cluster centroids**\n",
    "* ***k*** number of clusters is a **hyperparameter**"
   ]
  },
  {
   "cell_type": "markdown",
   "id": "e5a97df7",
   "metadata": {},
   "source": [
    "![k-mean clustering](../assets/img/k-means_2.png)"
   ]
  },
  {
   "cell_type": "markdown",
   "id": "8be296bf",
   "metadata": {},
   "source": [
    "We all belong to a cluster"
   ]
  },
  {
   "cell_type": "markdown",
   "id": "1333ebf0",
   "metadata": {},
   "source": [
    "<img src=\"../assets/img/k-means_3.png\" width=\"80%\">"
   ]
  },
  {
   "cell_type": "markdown",
   "id": "0ad606ba",
   "metadata": {},
   "source": [
    "[Image source](https://www.lancaster.ac.uk/stor-i-student-sites/harini-jayaraman/k-means-clustering/)"
   ]
  },
  {
   "cell_type": "markdown",
   "id": "5f0d4c6f",
   "metadata": {},
   "source": [
    "### Centroid\n",
    "* In k-means clustering, a **centroid** represents the center of a cluster\n",
    "* It is typically calculated as the mean of all data points within that cluster\n",
    "* The algorithm aims to find these centroids such that data points are grouped into clusters where points within each cluster are closer to their respective centroid than to any other cluster's centroid\n",
    "* Centroid might not necessarily be a member of the dataset"
   ]
  },
  {
   "cell_type": "markdown",
   "id": "b2d38f98",
   "metadata": {},
   "source": [
    "---"
   ]
  },
  {
   "cell_type": "markdown",
   "id": "746a29ba",
   "metadata": {},
   "source": [
    "## Clustering of mall customers"
   ]
  },
  {
   "cell_type": "markdown",
   "id": "bcc4e115",
   "metadata": {},
   "source": [
    "### Import libraries"
   ]
  },
  {
   "cell_type": "code",
   "execution_count": null,
   "id": "4ac9583d",
   "metadata": {},
   "outputs": [],
   "source": [
    "import numpy as np\n",
    "import pandas as pd\n",
    "import matplotlib.pyplot as plt\n",
    "import seaborn as sns\n",
    "from sklearn.cluster import KMeans\n",
    "from mpl_toolkits.mplot3d import Axes3D"
   ]
  },
  {
   "cell_type": "markdown",
   "id": "9323a204",
   "metadata": {},
   "source": [
    "### Import data"
   ]
  },
  {
   "cell_type": "code",
   "execution_count": null,
   "id": "5be0a726",
   "metadata": {},
   "outputs": [],
   "source": [
    "df = pd.read_csv('../raw_datasets/k-means/mall_customers.csv')\n",
    "df.head(3)"
   ]
  },
  {
   "cell_type": "markdown",
   "id": "ffeedf37",
   "metadata": {},
   "source": [
    "### EDA"
   ]
  },
  {
   "cell_type": "code",
   "execution_count": null,
   "id": "f445d041",
   "metadata": {},
   "outputs": [],
   "source": [
    "df.describe()"
   ]
  },
  {
   "cell_type": "code",
   "execution_count": null,
   "id": "4826ee36",
   "metadata": {},
   "outputs": [],
   "source": [
    "df.info()"
   ]
  },
  {
   "cell_type": "code",
   "execution_count": null,
   "id": "4cf35237",
   "metadata": {},
   "outputs": [],
   "source": [
    "df.isnull().sum()"
   ]
  },
  {
   "cell_type": "markdown",
   "id": "a3a2707e",
   "metadata": {},
   "source": [
    "##### Rename columns"
   ]
  },
  {
   "cell_type": "code",
   "execution_count": null,
   "id": "f8aab37e",
   "metadata": {},
   "outputs": [],
   "source": [
    "df.rename(columns={'Annual Income (k$)': 'Annual_Income',\n",
    "                   'Spending Score (1-100)': 'Spending_Score'\n",
    "                   }, inplace=True)"
   ]
  },
  {
   "cell_type": "code",
   "execution_count": null,
   "id": "60b0d017",
   "metadata": {},
   "outputs": [],
   "source": [
    "df.head()"
   ]
  },
  {
   "cell_type": "markdown",
   "id": "bc6a80e0",
   "metadata": {},
   "source": [
    "#### Data graphical overview - sns pairplot"
   ]
  },
  {
   "cell_type": "code",
   "execution_count": null,
   "id": "8c8ee4fc",
   "metadata": {},
   "outputs": [],
   "source": [
    "sns.pairplot(data=df[['Age', 'Annual_Income', 'Spending_Score']])\n",
    "plt.show()"
   ]
  },
  {
   "cell_type": "code",
   "execution_count": null,
   "id": "98afa14f",
   "metadata": {},
   "outputs": [],
   "source": [
    "plt.figure(figsize=(10, 6))\n",
    "plt.scatter(df['Annual_Income'], df['Spending_Score'], s=50)\n",
    "plt.title('Spending score as a function of annual income')\n",
    "plt.xlabel('Annual income')\n",
    "plt.ylabel('Spending Score')\n",
    "plt.show()"
   ]
  },
  {
   "cell_type": "code",
   "execution_count": null,
   "id": "761fb8b7",
   "metadata": {},
   "outputs": [],
   "source": [
    "df.columns"
   ]
  },
  {
   "cell_type": "markdown",
   "id": "febf92b5",
   "metadata": {},
   "source": [
    "### Applying k-means model to our dataset"
   ]
  },
  {
   "cell_type": "markdown",
   "id": "0120a9c5",
   "metadata": {},
   "source": [
    "#### Select features for clustering"
   ]
  },
  {
   "cell_type": "code",
   "execution_count": null,
   "id": "9b02053c",
   "metadata": {},
   "outputs": [],
   "source": [
    "X = df[['Annual_Income', 'Spending_Score']]\n"
   ]
  },
  {
   "cell_type": "markdown",
   "id": "127ae53a",
   "metadata": {},
   "source": [
    "### \"Elbow\" method to figure out the number of clusters"
   ]
  },
  {
   "cell_type": "markdown",
   "id": "67093c29",
   "metadata": {},
   "source": [
    "* One has to be minimalistic in selecting number of clusters\n",
    "* Number of lusters must be as small as possible"
   ]
  },
  {
   "cell_type": "markdown",
   "id": "6f059a8e",
   "metadata": {},
   "source": [
    "#### WCSS - Within-cluster sum of squares\n",
    "* Quantifies how close the data points in a cluster are to the cluster centroid\n",
    "* Lower WCSS means tighter, more compact clusters\n",
    "* As you increase *k* (the number of clusters), WCSS decreases, but with diminishing returns\n",
    "* This is why the elbow method is used to find the optimal number of clusters — by plotting WCSS vs. number of clusters and finding the \"elbow\" point"
   ]
  },
  {
   "cell_type": "code",
   "execution_count": null,
   "id": "74f1b4a4",
   "metadata": {},
   "outputs": [],
   "source": [
    "wcss = []\n",
    "for i in range(1, 11):\n",
    "    kmeans = KMeans(n_clusters=i, init='k-means++', max_iter=300, n_init=10, random_state=42)\n",
    "    kmeans.fit(X)\n",
    "    wcss.append(kmeans.inertia_)\n"
   ]
  },
  {
   "cell_type": "markdown",
   "id": "11f8f439",
   "metadata": {},
   "source": [
    "#### WCSS vs. cluster number \"elbow\" plot"
   ]
  },
  {
   "cell_type": "code",
   "execution_count": null,
   "id": "a6571b8b",
   "metadata": {},
   "outputs": [],
   "source": [
    "plt.figure(figsize=(10, 6))\n",
    "plt.plot(range(1, 11), wcss)\n",
    "plt.xlabel(\"Number of clusters\")\n",
    "plt.ylabel(\"WCSS\")\n",
    "plt.title(\"Cluster number optimisation by elbow\")\n",
    "plt.show()"
   ]
  },
  {
   "cell_type": "markdown",
   "id": "a52154f1",
   "metadata": {},
   "source": [
    "Above: optimal number of clusters is 5."
   ]
  },
  {
   "cell_type": "code",
   "execution_count": null,
   "id": "a84c5024",
   "metadata": {},
   "outputs": [],
   "source": [
    "kmeans = KMeans(n_clusters=5, init='k-means++', max_iter=300, n_init=10, random_state=42)"
   ]
  },
  {
   "cell_type": "code",
   "execution_count": null,
   "id": "98024d5f",
   "metadata": {},
   "outputs": [],
   "source": [
    "y_kmeans = kmeans.fit_predict(X)"
   ]
  },
  {
   "cell_type": "code",
   "execution_count": null,
   "id": "dd5a2465",
   "metadata": {},
   "outputs": [],
   "source": [
    "df['Cluster'] = y_kmeans"
   ]
  },
  {
   "cell_type": "code",
   "execution_count": null,
   "id": "508447ea",
   "metadata": {},
   "outputs": [],
   "source": [
    "df.head()"
   ]
  },
  {
   "cell_type": "code",
   "execution_count": null,
   "id": "e562c319",
   "metadata": {},
   "outputs": [],
   "source": [
    "plt.figure(figsize=(10, 6))\n",
    "plt.scatter(X.iloc[:,0], X.iloc[:,1], c=y_kmeans, s=150, cmap='viridis')  # review slicing through iterables; 0, 1 stands for columns\n",
    "centers = kmeans.cluster_centers_  # Retrieves coordinates of cluster centers\n",
    "plt.scatter(centers[:,0], centers[:,1], c='red', s=200, alpha=.75, marker='X')\n",
    "plt.xlabel(\"Annual Income\")\n",
    "plt.ylabel(\"Spending Score\")\n",
    "plt.title(\"Customer Segments\")\n",
    "plt.show()"
   ]
  },
  {
   "cell_type": "markdown",
   "id": "c8a0d162",
   "metadata": {},
   "source": [
    "Needs interpretation"
   ]
  },
  {
   "cell_type": "markdown",
   "id": "533435fc",
   "metadata": {},
   "source": [
    "### We select other features here for plotting"
   ]
  },
  {
   "cell_type": "code",
   "execution_count": null,
   "id": "4cdc1070",
   "metadata": {},
   "outputs": [],
   "source": [
    "plt.figure(figsize=(10, 6))\n",
    "plt.scatter(df['Age'], df['Spending_Score'], s=50)\n",
    "plt.title('Spending score as a function age')\n",
    "plt.xlabel('Age')\n",
    "plt.ylabel('Spending Score')\n",
    "plt.show()"
   ]
  },
  {
   "cell_type": "code",
   "execution_count": null,
   "id": "ad7eba8f",
   "metadata": {},
   "outputs": [],
   "source": [
    "# Elbow method again\n",
    "X = df[['Age', 'Spending_Score']]\n",
    "# Within cluster sum of squares\n",
    "wcss = []\n",
    "for i in range(1, 11):\n",
    "    kmeans = KMeans(n_clusters=i, init='k-means++', max_iter=300, n_init=10, random_state=42)\n",
    "    kmeans.fit(X)\n",
    "    wcss.append(kmeans.inertia_)\n",
    "\n",
    "plt.figure(figsize=(10, 6))\n",
    "plt.plot(range(1, 11), wcss)\n",
    "plt.xlabel(\"Number of clusters\")\n",
    "plt.ylabel(\"WCSS\")\n",
    "plt.title(\"Cluster number optimisation by elbow\")\n",
    "plt.show()\n"
   ]
  },
  {
   "cell_type": "code",
   "execution_count": null,
   "id": "d68e45eb",
   "metadata": {},
   "outputs": [],
   "source": [
    "kmeans = KMeans(n_clusters=4, init='k-means++', max_iter=300, n_init=10, random_state=42)\n",
    "y_kmeans = kmeans.fit_predict(X)\n",
    "df['Cluster_Age'] = y_kmeans"
   ]
  },
  {
   "cell_type": "code",
   "execution_count": null,
   "id": "fd6ccf85",
   "metadata": {},
   "outputs": [],
   "source": [
    "df.head()"
   ]
  },
  {
   "cell_type": "code",
   "execution_count": null,
   "id": "741e9515",
   "metadata": {},
   "outputs": [],
   "source": [
    "plt.figure(figsize=(10, 6))\n",
    "plt.scatter(X.iloc[:,0], X.iloc[:,1], c=y_kmeans, s=150, cmap='viridis')  # review slicing through iterables; 0, 1 stands for columns\n",
    "centers = kmeans.cluster_centers_  # Retrieves coordinates of cluster centers\n",
    "plt.scatter(centers[:,0], centers[:,1], c='red', s=200, alpha=.75, marker='X')\n",
    "plt.xlabel(\"Age\")\n",
    "plt.ylabel(\"Spending Score\")\n",
    "plt.title(\"Customer Segments\")\n",
    "plt.show()"
   ]
  },
  {
   "cell_type": "markdown",
   "id": "879d8134",
   "metadata": {},
   "source": [
    "### 3D plot of all 3 features"
   ]
  },
  {
   "cell_type": "code",
   "execution_count": null,
   "id": "0d28a0d9",
   "metadata": {},
   "outputs": [],
   "source": [
    "X = df[['Age', 'Annual_Income', 'Spending_Score']]\n",
    "wcss = []\n",
    "for i in range(1, 11):\n",
    "    kmeans = KMeans(n_clusters=i, init='k-means++', max_iter=300, n_init=10, random_state=42)\n",
    "    kmeans.fit(X)\n",
    "    wcss.append(kmeans.inertia_)\n",
    "\n",
    "plt.figure(figsize=(10, 6))\n",
    "plt.plot(range(1, 11), wcss, marker='o')\n",
    "plt.xlabel(\"Number of clusters\")\n",
    "plt.ylabel(\"WCSS\")\n",
    "plt.title(\"Cluster number optimisation by elbow\")\n",
    "plt.show()\n"
   ]
  },
  {
   "cell_type": "markdown",
   "id": "672424c5",
   "metadata": {},
   "source": [
    "Optimal number of clusters is 6"
   ]
  },
  {
   "cell_type": "code",
   "execution_count": null,
   "id": "97fda458",
   "metadata": {},
   "outputs": [],
   "source": [
    "kmeans = KMeans(n_clusters=6, init='k-means++', max_iter=300, n_init=10, random_state=42)\n",
    "y_kmeans = kmeans.fit_predict(X)"
   ]
  },
  {
   "cell_type": "code",
   "execution_count": null,
   "id": "e5f4d0fc",
   "metadata": {},
   "outputs": [],
   "source": [
    "df['Cluster_Age_Income_Spend'] = y_kmeans"
   ]
  },
  {
   "cell_type": "code",
   "execution_count": null,
   "id": "373be95d",
   "metadata": {},
   "outputs": [],
   "source": [
    "df.head()"
   ]
  },
  {
   "cell_type": "markdown",
   "id": "4f9c414d",
   "metadata": {},
   "source": [
    "## Visualising clusters in 3D"
   ]
  },
  {
   "cell_type": "code",
   "execution_count": null,
   "id": "c0fa8721",
   "metadata": {},
   "outputs": [],
   "source": [
    "centroids = kmeans.cluster_centers_\n",
    "fig = plt.figure(figsize=(10, 7))\n",
    "ax = fig.add_subplot(111, projection='3d')\n",
    "ax.scatter(\n",
    "    df['Age'],\n",
    "    df['Annual_Income'],\n",
    "    df['Spending_Score'],\n",
    "    c=df['Cluster_Age_Income_Spend'],\n",
    "    s=50,\n",
    "    cmap='viridis'\n",
    ")\n",
    "ax.scatter(\n",
    "    centroids[:, 0],  # Age\n",
    "    centroids[:, 1],  # Annual Income\n",
    "    centroids[:, 2],  # Spending Score\n",
    "    s=200,\n",
    "    c='red',\n",
    "    marker='X',\n",
    "    edgecolor='black',\n",
    "    label='Centroids'\n",
    ")\n",
    "ax.set_xlabel(\"Age\")\n",
    "ax.set_ylabel(\"Annual income\")\n",
    "ax.set_zlabel(\"Spending score\")\n",
    "plt.title(\"Customer segments based on Age, Annual income, and Spending score\")\n",
    "plt.show()"
   ]
  },
  {
   "cell_type": "markdown",
   "id": "726d3822",
   "metadata": {},
   "source": [
    "## Prediction"
   ]
  },
  {
   "cell_type": "markdown",
   "id": "a9b1615f",
   "metadata": {},
   "source": [
    "#### Prepare input\n",
    "The new person (customer) is:\n",
    "* Age: 30\n",
    "* Annual income: 60k\n",
    "* Spending score: 50"
   ]
  },
  {
   "cell_type": "markdown",
   "id": "d46d1105",
   "metadata": {},
   "source": [
    "#### Create input for this customer:"
   ]
  },
  {
   "cell_type": "code",
   "execution_count": null,
   "id": "72fefdd2",
   "metadata": {},
   "outputs": [],
   "source": [
    "# new_customer = np.array([[30, 60, 50]])\n",
    "new_customer_df = pd.DataFrame([[30, 60, 50]], columns=['Age', 'Annual_Income', 'Spending_Score'])  # N.b.: _2D_array_"
   ]
  },
  {
   "cell_type": "markdown",
   "id": "1e808b92",
   "metadata": {},
   "source": [
    "#### Predict the cluster"
   ]
  },
  {
   "cell_type": "code",
   "execution_count": null,
   "id": "59023c2f",
   "metadata": {},
   "outputs": [],
   "source": [
    "cluster_label = kmeans.predict(new_customer_df)\n",
    "print(f\"The customer belongs to cluster: {cluster_label[0]}\")"
   ]
  },
  {
   "cell_type": "markdown",
   "id": "50b76126",
   "metadata": {},
   "source": [
    "#### Print a distance from a cluster centroid"
   ]
  },
  {
   "cell_type": "code",
   "execution_count": null,
   "id": "15db600e",
   "metadata": {},
   "outputs": [],
   "source": [
    "distances = kmeans.transform(new_customer_df)\n",
    "print(\"Distances to cluster centers:\", distances)"
   ]
  },
  {
   "cell_type": "markdown",
   "id": "a9a98b11",
   "metadata": {},
   "source": [
    "---"
   ]
  },
  {
   "cell_type": "markdown",
   "id": "2141a386",
   "metadata": {},
   "source": [
    "## Deploy your model with Panel"
   ]
  },
  {
   "cell_type": "markdown",
   "id": "4096d347",
   "metadata": {},
   "source": [
    "[Panel](https://panel.holoviz.org/)"
   ]
  },
  {
   "cell_type": "code",
   "execution_count": null,
   "id": "f29bae17",
   "metadata": {},
   "outputs": [],
   "source": [
    "%pip install panel jupyter_bokeh\n"
   ]
  },
  {
   "cell_type": "code",
   "execution_count": null,
   "id": "35678560",
   "metadata": {},
   "outputs": [],
   "source": [
    "import panel as pn\n",
    "pn.extension()"
   ]
  },
  {
   "cell_type": "code",
   "execution_count": null,
   "id": "a1ee67a2",
   "metadata": {},
   "outputs": [],
   "source": [
    "pn.extension()\n",
    "\n",
    "# Input widgets\n",
    "age_input = pn.widgets.IntSlider(name='Age', start=15, end=80, value=30)\n",
    "income_input = pn.widgets.IntSlider(name='Annual Income (k$)', start=15, end=150, value=60)\n",
    "score_input = pn.widgets.IntSlider(name='Spending Score (1–100)', start=1, end=100, value=50)\n",
    "\n",
    "# Output widget\n",
    "output = pn.pane.Markdown(\"**Predicted Cluster:** _None yet_\")\n",
    "\n",
    "# Callback function\n",
    "def predict_cluster(event=None):\n",
    "    input_data = np.array([[age_input.value, income_input.value, score_input.value]])\n",
    "    cluster = kmeans.predict(input_data)[0]\n",
    "    distances = kmeans.transform(new_customer_df)\n",
    "    output.object = f\"**Predicted Cluster:** {cluster}\"\n",
    "    \n",
    "# Button to trigger prediction\n",
    "predict_button = pn.widgets.Button(name=\"🧠 Predict Cluster\", button_type=\"primary\")\n",
    "predict_button.on_click(predict_cluster)\n",
    "\n",
    "# Layout\n",
    "dashboard = pn.Column(\n",
    "    \"### 🛍️🤖 Customer Cluster Predictor\",\n",
    "    age_input,\n",
    "    income_input,\n",
    "    score_input,\n",
    "    predict_button,\n",
    "    output\n",
    ")\n",
    "\n",
    "dashboard.servable()\n"
   ]
  },
  {
   "cell_type": "code",
   "execution_count": null,
   "id": "a367123a",
   "metadata": {},
   "outputs": [],
   "source": []
  }
 ],
 "metadata": {
  "kernelspec": {
   "display_name": "venv",
   "language": "python",
   "name": "python3"
  },
  "language_info": {
   "codemirror_mode": {
    "name": "ipython",
    "version": 3
   },
   "file_extension": ".py",
   "mimetype": "text/x-python",
   "name": "python",
   "nbconvert_exporter": "python",
   "pygments_lexer": "ipython3",
   "version": "3.12.8"
  }
 },
 "nbformat": 4,
 "nbformat_minor": 5
}
