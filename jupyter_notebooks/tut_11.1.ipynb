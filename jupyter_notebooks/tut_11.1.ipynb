{
 "cells": [
  {
   "cell_type": "markdown",
   "id": "71debac4",
   "metadata": {},
   "source": [
    "# <u>Tut_11.1</u>"
   ]
  },
  {
   "cell_type": "markdown",
   "id": "e0ef6aa3",
   "metadata": {},
   "source": [
    "### Drop-in session"
   ]
  }
 ],
 "metadata": {
  "language_info": {
   "name": "python"
  }
 },
 "nbformat": 4,
 "nbformat_minor": 5
}
