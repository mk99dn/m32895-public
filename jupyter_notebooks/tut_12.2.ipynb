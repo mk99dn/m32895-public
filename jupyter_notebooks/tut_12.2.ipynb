{
 "cells": [
  {
   "cell_type": "markdown",
   "id": "d5a5e379",
   "metadata": {},
   "source": [
    "# <u>Tut_12.2</u>\n",
    "### Drop-in session"
   ]
  }
 ],
 "metadata": {
  "language_info": {
   "name": "python"
  }
 },
 "nbformat": 4,
 "nbformat_minor": 5
}
